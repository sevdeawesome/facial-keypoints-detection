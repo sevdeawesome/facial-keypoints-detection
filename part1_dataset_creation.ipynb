{
 "cells": [
  {
   "cell_type": "markdown",
   "id": "92573b7e-c6f5-494b-826e-12c1ba7bb221",
   "metadata": {},
   "source": [
    "## All imports line below this"
   ]
  },
  {
   "cell_type": "code",
   "execution_count": 1,
   "id": "26b46cdf-b48b-47e5-bcf4-0c3f6d8258c0",
   "metadata": {},
   "outputs": [],
   "source": [
    "# Model: Pytorch and timm\n",
    "from timm import *\n",
    "import timm\n",
    "\n",
    "## Data Analysis\n",
    "import numpy as np\n",
    "import pandas as pd\n",
    "import matplotlib.pyplot as plt\n",
    "import seaborn as sns\n",
    "\n",
    "# Image Processing\n",
    "from fastai.data.external import *\n",
    "from PIL import Image \n",
    "\n",
    "# Helper functions\n",
    "from fastai import *\n",
    "from fastai.vision.all import *"
   ]
  },
  {
   "cell_type": "code",
   "execution_count": null,
   "id": "b7dec924-81b6-4af8-bf15-31fe9f773664",
   "metadata": {},
   "outputs": [],
   "source": []
  },
  {
   "cell_type": "markdown",
   "id": "1f0c798f-2f8f-4a21-8bf5-c9fd35a40d28",
   "metadata": {},
   "source": [
    "## Pull Data In"
   ]
  },
  {
   "cell_type": "code",
   "execution_count": 2,
   "id": "a5d5ef85-c878-40b1-bffe-9f8a9422ad9c",
   "metadata": {},
   "outputs": [],
   "source": [
    "training_df = pd.read_csv(\"data/training.csv\")\n",
    "\n",
    "# training_df.head(1)"
   ]
  },
  {
   "cell_type": "code",
   "execution_count": 3,
   "id": "d1b678c2-9df2-4f0a-b393-cf36013f14e8",
   "metadata": {},
   "outputs": [],
   "source": [
    "lookup_df = pd.read_csv(\"data/IdLookupTable.csv\")\n",
    "\n",
    "# lookup_df.head(1)"
   ]
  },
  {
   "cell_type": "markdown",
   "id": "5e3fd75b-a45b-409a-9e25-49d49926c609",
   "metadata": {},
   "source": [
    "## Fix up the data a lil"
   ]
  },
  {
   "cell_type": "code",
   "execution_count": 4,
   "id": "5c8d77cb-78a8-4b49-973d-19db347c1475",
   "metadata": {},
   "outputs": [],
   "source": [
    "training_df.fillna(method = 'ffill',inplace = True)"
   ]
  },
  {
   "cell_type": "code",
   "execution_count": 5,
   "id": "d4594145-65fa-48d8-bd47-ce2c66506cd4",
   "metadata": {},
   "outputs": [
    {
     "data": {
      "text/html": [
       "<div>\n",
       "<style scoped>\n",
       "    .dataframe tbody tr th:only-of-type {\n",
       "        vertical-align: middle;\n",
       "    }\n",
       "\n",
       "    .dataframe tbody tr th {\n",
       "        vertical-align: top;\n",
       "    }\n",
       "\n",
       "    .dataframe thead th {\n",
       "        text-align: right;\n",
       "    }\n",
       "</style>\n",
       "<table border=\"1\" class=\"dataframe\">\n",
       "  <thead>\n",
       "    <tr style=\"text-align: right;\">\n",
       "      <th></th>\n",
       "      <th>left_eye_center_x</th>\n",
       "      <th>left_eye_center_y</th>\n",
       "      <th>right_eye_center_x</th>\n",
       "      <th>right_eye_center_y</th>\n",
       "    </tr>\n",
       "  </thead>\n",
       "  <tbody>\n",
       "    <tr>\n",
       "      <th>0</th>\n",
       "      <td>66.033564</td>\n",
       "      <td>39.002274</td>\n",
       "      <td>30.227008</td>\n",
       "      <td>36.421678</td>\n",
       "    </tr>\n",
       "    <tr>\n",
       "      <th>1</th>\n",
       "      <td>64.332936</td>\n",
       "      <td>34.970077</td>\n",
       "      <td>29.949277</td>\n",
       "      <td>33.448715</td>\n",
       "    </tr>\n",
       "    <tr>\n",
       "      <th>2</th>\n",
       "      <td>65.057053</td>\n",
       "      <td>34.909642</td>\n",
       "      <td>30.903789</td>\n",
       "      <td>34.909642</td>\n",
       "    </tr>\n",
       "  </tbody>\n",
       "</table>\n",
       "</div>"
      ],
      "text/plain": [
       "   left_eye_center_x  left_eye_center_y  right_eye_center_x  \\\n",
       "0          66.033564          39.002274           30.227008   \n",
       "1          64.332936          34.970077           29.949277   \n",
       "2          65.057053          34.909642           30.903789   \n",
       "\n",
       "   right_eye_center_y  \n",
       "0           36.421678  \n",
       "1           33.448715  \n",
       "2           34.909642  "
      ]
     },
     "execution_count": 5,
     "metadata": {},
     "output_type": "execute_result"
    }
   ],
   "source": [
    "training_df.iloc[0:3,0:4]"
   ]
  },
  {
   "cell_type": "code",
   "execution_count": null,
   "id": "b337bb1a-438a-4ac2-b2d6-2c98e05d56bf",
   "metadata": {},
   "outputs": [],
   "source": []
  },
  {
   "cell_type": "code",
   "execution_count": null,
   "id": "9ab6ddad-f32c-4c51-b901-9e59ca7cc00d",
   "metadata": {},
   "outputs": [],
   "source": []
  },
  {
   "cell_type": "markdown",
   "id": "4f155400-4874-4785-b5c7-1198b7ab8bad",
   "metadata": {},
   "source": [
    "## Show an Image, then show an image with key points\n"
   ]
  },
  {
   "cell_type": "code",
   "execution_count": 6,
   "id": "e73e2e22-c64e-4730-a31a-e1502a5ef1c6",
   "metadata": {},
   "outputs": [],
   "source": [
    "\n",
    "\n",
    "def get_image_tensor(index): \n",
    "    img_str = training_df['Image'][index]\n",
    "    arr = np.fromstring(img_str, dtype=int, sep=' ')\n",
    "    arr = ['0' if x == '' else x for x in arr]\n",
    "    arr = tensor(np.array(arr).reshape(96,96))\n",
    "    return arr\n",
    "\n",
    "def get_image_arr(index): \n",
    "    img_str = training_df['Image'][index]\n",
    "    arr = np.fromstring(img_str, dtype=int, sep=' ')\n",
    "    arr = ['0' if x == '' else x for x in arr]\n",
    "    # arr = tensor(np.array(arr).reshape(96,96))\n",
    "    return np.array(arr)\n",
    "\n",
    "def get_key_points(index, num=30):\n",
    "    coord_arr = []\n",
    "    for i in range(0,num,2):\n",
    "        coord = training_df.iloc[index][i],training_df.iloc[index][i+1]\n",
    "        coord_arr.append(coord)\n",
    "    return tensor(coord_arr)\n",
    "\n",
    "def plot_image_with_key_points(index, num_key_points=30, coord_manual_input=[0]):\n",
    "    image_tensor = get_image_tensor(index)\n",
    "    coord_arr = get_key_points(index, num_key_points)\n",
    "    \n",
    "    \n",
    "    plt.imshow(image_tensor,cmap='gray')\n",
    "    \n",
    "    if coord_manual_input == [0]:\n",
    "        for coord in coord_arr:\n",
    "            plt.scatter(coord[0],coord[1],c='pink', marker='s', s=50, alpha=.5)\n",
    "    else:\n",
    "        plt.scatter(coord_manual_input[0],coord_manual_input[1],c='r', marker='s', s=60, alpha=.5)\n",
    "    "
   ]
  },
  {
   "cell_type": "code",
   "execution_count": 7,
   "id": "66050205-c275-460c-a10d-68a6dcd96a31",
   "metadata": {},
   "outputs": [
    {
     "data": {
      "text/plain": [
       "list"
      ]
     },
     "execution_count": 7,
     "metadata": {},
     "output_type": "execute_result"
    }
   ],
   "source": [
    "type([30,30])"
   ]
  },
  {
   "cell_type": "code",
   "execution_count": 8,
   "id": "e1ee2b46-91e5-4df2-8333-460b3ec8bfb6",
   "metadata": {},
   "outputs": [
    {
     "data": {
      "image/png": "[encoded data removed]",
      "text/plain": [
       "<Figure size 432x288 with 1 Axes>"
      ]
     },
     "metadata": {
      "needs_background": "light"
     },
     "output_type": "display_data"
    }
   ],
   "source": [
    "plot_image_with_key_points(1,2)"
   ]
  },
  {
   "cell_type": "code",
   "execution_count": null,
   "id": "84800659-98bd-42f1-91b1-a404cef8491a",
   "metadata": {},
   "outputs": [],
   "source": []
  },
  {
   "cell_type": "code",
   "execution_count": 9,
   "id": "939c872c-10c9-4006-a5b3-b5de690a9961",
   "metadata": {},
   "outputs": [
    {
     "data": {
      "text/plain": [
       "torch.Tensor"
      ]
     },
     "execution_count": 9,
     "metadata": {},
     "output_type": "execute_result"
    }
   ],
   "source": [
    "key_points = get_key_points(1)\n",
    "\n",
    "type(key_points)"
   ]
  },
  {
   "cell_type": "code",
   "execution_count": 10,
   "id": "7f6d207f-3134-4335-861d-4e3bf0c2016f",
   "metadata": {},
   "outputs": [
    {
     "data": {
      "text/plain": [
       "(9216,)"
      ]
     },
     "execution_count": 10,
     "metadata": {},
     "output_type": "execute_result"
    }
   ],
   "source": [
    "arr = get_image_arr(1)\n",
    "type(arr)\n",
    "arr.shape\n",
    "\n"
   ]
  },
  {
   "cell_type": "code",
   "execution_count": null,
   "id": "f33b5472-8de7-4441-9fdc-306956e2c247",
   "metadata": {},
   "outputs": [],
   "source": []
  },
  {
   "cell_type": "markdown",
   "id": "9aef0d9a-ec63-4516-af87-6ffc3cb1d589",
   "metadata": {},
   "source": [
    "## Train and Test Set Creation"
   ]
  },
  {
   "cell_type": "code",
   "execution_count": 11,
   "id": "c0afc51e-af04-4226-9d3a-69aa52a4d70d",
   "metadata": {},
   "outputs": [
    {
     "data": {
      "text/plain": [
       "7049"
      ]
     },
     "execution_count": 11,
     "metadata": {},
     "output_type": "execute_result"
    }
   ],
   "source": [
    "len(training_df)"
   ]
  },
  {
   "cell_type": "code",
   "execution_count": 12,
   "id": "9501032e-2ac8-4e71-b16d-972e493dc214",
   "metadata": {},
   "outputs": [],
   "source": [
    "independent_variable_images = []\n",
    "\n",
    "for i in range(len(training_df)):\n",
    "    independent_variable_images.append(get_image_arr(i))\n",
    "    "
   ]
  },
  {
   "cell_type": "code",
   "execution_count": null,
   "id": "019dbe71-84fb-45aa-93b4-ca01ab7f6691",
   "metadata": {},
   "outputs": [],
   "source": []
  },
  {
   "cell_type": "code",
   "execution_count": 13,
   "id": "7b0df6dc-0f3a-464f-a337-738c7c1b982a",
   "metadata": {},
   "outputs": [],
   "source": [
    "image_list = np.array(independent_variable_images,dtype = 'float')"
   ]
  },
  {
   "cell_type": "code",
   "execution_count": null,
   "id": "c4804837-bf34-47e1-8754-bfe4cce4ec87",
   "metadata": {},
   "outputs": [],
   "source": []
  },
  {
   "cell_type": "code",
   "execution_count": 14,
   "id": "f27fab70-1b0f-44ba-9c2f-183b3db7ac57",
   "metadata": {},
   "outputs": [
    {
     "data": {
      "text/plain": [
       "numpy.ndarray"
      ]
     },
     "execution_count": 14,
     "metadata": {},
     "output_type": "execute_result"
    }
   ],
   "source": [
    "type(image_list)"
   ]
  },
  {
   "cell_type": "code",
   "execution_count": 15,
   "id": "b60451c5-9cb6-478b-a399-b582158cc120",
   "metadata": {},
   "outputs": [
    {
     "data": {
      "text/plain": [
       "(7049, 9216)"
      ]
     },
     "execution_count": 15,
     "metadata": {},
     "output_type": "execute_result"
    }
   ],
   "source": [
    "image_list.shape"
   ]
  },
  {
   "cell_type": "code",
   "execution_count": 16,
   "id": "076d4743-d818-45a8-9027-339222892758",
   "metadata": {},
   "outputs": [],
   "source": [
    "independent_vars = image_list.reshape(-1,96,96,1)"
   ]
  },
  {
   "cell_type": "code",
   "execution_count": 17,
   "id": "9a4fe4a4-2cda-4f9d-bc86-2f4883d8e129",
   "metadata": {},
   "outputs": [
    {
     "data": {
      "text/plain": [
       "(7049, 96, 96, 1)"
      ]
     },
     "execution_count": 17,
     "metadata": {},
     "output_type": "execute_result"
    }
   ],
   "source": [
    "independent_vars.shape"
   ]
  },
  {
   "cell_type": "code",
   "execution_count": null,
   "id": "3ecbe10a-5b98-46ed-8d98-13c7e4dafec4",
   "metadata": {},
   "outputs": [],
   "source": []
  },
  {
   "cell_type": "code",
   "execution_count": 18,
   "id": "73cfcd25-5067-4c3e-a35d-3f714c951057",
   "metadata": {},
   "outputs": [],
   "source": [
    "dependent_vars = training_df.iloc[:,0:30]"
   ]
  },
  {
   "cell_type": "code",
   "execution_count": 19,
   "id": "2adfff4b-0064-4811-93fd-de4fd913aea1",
   "metadata": {},
   "outputs": [
    {
     "data": {
      "text/html": [
       "<div>\n",
       "<style scoped>\n",
       "    .dataframe tbody tr th:only-of-type {\n",
       "        vertical-align: middle;\n",
       "    }\n",
       "\n",
       "    .dataframe tbody tr th {\n",
       "        vertical-align: top;\n",
       "    }\n",
       "\n",
       "    .dataframe thead th {\n",
       "        text-align: right;\n",
       "    }\n",
       "</style>\n",
       "<table border=\"1\" class=\"dataframe\">\n",
       "  <thead>\n",
       "    <tr style=\"text-align: right;\">\n",
       "      <th></th>\n",
       "      <th>left_eye_center_x</th>\n",
       "      <th>left_eye_center_y</th>\n",
       "      <th>right_eye_center_x</th>\n",
       "      <th>right_eye_center_y</th>\n",
       "      <th>left_eye_inner_corner_x</th>\n",
       "      <th>left_eye_inner_corner_y</th>\n",
       "      <th>left_eye_outer_corner_x</th>\n",
       "      <th>left_eye_outer_corner_y</th>\n",
       "      <th>right_eye_inner_corner_x</th>\n",
       "      <th>right_eye_inner_corner_y</th>\n",
       "      <th>...</th>\n",
       "      <th>nose_tip_x</th>\n",
       "      <th>nose_tip_y</th>\n",
       "      <th>mouth_left_corner_x</th>\n",
       "      <th>mouth_left_corner_y</th>\n",
       "      <th>mouth_right_corner_x</th>\n",
       "      <th>mouth_right_corner_y</th>\n",
       "      <th>mouth_center_top_lip_x</th>\n",
       "      <th>mouth_center_top_lip_y</th>\n",
       "      <th>mouth_center_bottom_lip_x</th>\n",
       "      <th>mouth_center_bottom_lip_y</th>\n",
       "    </tr>\n",
       "  </thead>\n",
       "  <tbody>\n",
       "    <tr>\n",
       "      <th>0</th>\n",
       "      <td>66.033564</td>\n",
       "      <td>39.002274</td>\n",
       "      <td>30.227008</td>\n",
       "      <td>36.421678</td>\n",
       "      <td>59.582075</td>\n",
       "      <td>39.647423</td>\n",
       "      <td>73.130346</td>\n",
       "      <td>39.969997</td>\n",
       "      <td>36.356571</td>\n",
       "      <td>37.389402</td>\n",
       "      <td>...</td>\n",
       "      <td>44.420571</td>\n",
       "      <td>57.066803</td>\n",
       "      <td>61.195308</td>\n",
       "      <td>79.970165</td>\n",
       "      <td>28.614496</td>\n",
       "      <td>77.388992</td>\n",
       "      <td>43.312602</td>\n",
       "      <td>72.935459</td>\n",
       "      <td>43.130707</td>\n",
       "      <td>84.485774</td>\n",
       "    </tr>\n",
       "    <tr>\n",
       "      <th>1</th>\n",
       "      <td>64.332936</td>\n",
       "      <td>34.970077</td>\n",
       "      <td>29.949277</td>\n",
       "      <td>33.448715</td>\n",
       "      <td>58.856170</td>\n",
       "      <td>35.274349</td>\n",
       "      <td>70.722723</td>\n",
       "      <td>36.187166</td>\n",
       "      <td>36.034723</td>\n",
       "      <td>34.361532</td>\n",
       "      <td>...</td>\n",
       "      <td>48.206298</td>\n",
       "      <td>55.660936</td>\n",
       "      <td>56.421447</td>\n",
       "      <td>76.352000</td>\n",
       "      <td>35.122383</td>\n",
       "      <td>76.047660</td>\n",
       "      <td>46.684596</td>\n",
       "      <td>70.266553</td>\n",
       "      <td>45.467915</td>\n",
       "      <td>85.480170</td>\n",
       "    </tr>\n",
       "    <tr>\n",
       "      <th>2</th>\n",
       "      <td>65.057053</td>\n",
       "      <td>34.909642</td>\n",
       "      <td>30.903789</td>\n",
       "      <td>34.909642</td>\n",
       "      <td>59.412000</td>\n",
       "      <td>36.320968</td>\n",
       "      <td>70.984421</td>\n",
       "      <td>36.320968</td>\n",
       "      <td>37.678105</td>\n",
       "      <td>36.320968</td>\n",
       "      <td>...</td>\n",
       "      <td>47.557263</td>\n",
       "      <td>53.538947</td>\n",
       "      <td>60.822947</td>\n",
       "      <td>73.014316</td>\n",
       "      <td>33.726316</td>\n",
       "      <td>72.732000</td>\n",
       "      <td>47.274947</td>\n",
       "      <td>70.191789</td>\n",
       "      <td>47.274947</td>\n",
       "      <td>78.659368</td>\n",
       "    </tr>\n",
       "    <tr>\n",
       "      <th>3</th>\n",
       "      <td>65.225739</td>\n",
       "      <td>37.261774</td>\n",
       "      <td>32.023096</td>\n",
       "      <td>37.261774</td>\n",
       "      <td>60.003339</td>\n",
       "      <td>39.127179</td>\n",
       "      <td>72.314713</td>\n",
       "      <td>38.380967</td>\n",
       "      <td>37.618643</td>\n",
       "      <td>38.754115</td>\n",
       "      <td>...</td>\n",
       "      <td>51.885078</td>\n",
       "      <td>54.166539</td>\n",
       "      <td>65.598887</td>\n",
       "      <td>72.703722</td>\n",
       "      <td>37.245496</td>\n",
       "      <td>74.195478</td>\n",
       "      <td>50.303165</td>\n",
       "      <td>70.091687</td>\n",
       "      <td>51.561183</td>\n",
       "      <td>78.268383</td>\n",
       "    </tr>\n",
       "    <tr>\n",
       "      <th>4</th>\n",
       "      <td>66.725301</td>\n",
       "      <td>39.621261</td>\n",
       "      <td>32.244810</td>\n",
       "      <td>38.042032</td>\n",
       "      <td>58.565890</td>\n",
       "      <td>39.621261</td>\n",
       "      <td>72.515926</td>\n",
       "      <td>39.884466</td>\n",
       "      <td>36.982380</td>\n",
       "      <td>39.094852</td>\n",
       "      <td>...</td>\n",
       "      <td>43.299534</td>\n",
       "      <td>64.889521</td>\n",
       "      <td>60.671411</td>\n",
       "      <td>77.523239</td>\n",
       "      <td>31.191755</td>\n",
       "      <td>76.997301</td>\n",
       "      <td>44.962748</td>\n",
       "      <td>73.707387</td>\n",
       "      <td>44.227141</td>\n",
       "      <td>86.871166</td>\n",
       "    </tr>\n",
       "  </tbody>\n",
       "</table>\n",
       "<p>5 rows × 30 columns</p>\n",
       "</div>"
      ],
      "text/plain": [
       "   left_eye_center_x  left_eye_center_y  right_eye_center_x  \\\n",
       "0          66.033564          39.002274           30.227008   \n",
       "1          64.332936          34.970077           29.949277   \n",
       "2          65.057053          34.909642           30.903789   \n",
       "3          65.225739          37.261774           32.023096   \n",
       "4          66.725301          39.621261           32.244810   \n",
       "\n",
       "   right_eye_center_y  left_eye_inner_corner_x  left_eye_inner_corner_y  \\\n",
       "0           36.421678                59.582075                39.647423   \n",
       "1           33.448715                58.856170                35.274349   \n",
       "2           34.909642                59.412000                36.320968   \n",
       "3           37.261774                60.003339                39.127179   \n",
       "4           38.042032                58.565890                39.621261   \n",
       "\n",
       "   left_eye_outer_corner_x  left_eye_outer_corner_y  right_eye_inner_corner_x  \\\n",
       "0                73.130346                39.969997                 36.356571   \n",
       "1                70.722723                36.187166                 36.034723   \n",
       "2                70.984421                36.320968                 37.678105   \n",
       "3                72.314713                38.380967                 37.618643   \n",
       "4                72.515926                39.884466                 36.982380   \n",
       "\n",
       "   right_eye_inner_corner_y  ...  nose_tip_x  nose_tip_y  mouth_left_corner_x  \\\n",
       "0                 37.389402  ...   44.420571   57.066803            61.195308   \n",
       "1                 34.361532  ...   48.206298   55.660936            56.421447   \n",
       "2                 36.320968  ...   47.557263   53.538947            60.822947   \n",
       "3                 38.754115  ...   51.885078   54.166539            65.598887   \n",
       "4                 39.094852  ...   43.299534   64.889521            60.671411   \n",
       "\n",
       "   mouth_left_corner_y  mouth_right_corner_x  mouth_right_corner_y  \\\n",
       "0            79.970165             28.614496             77.388992   \n",
       "1            76.352000             35.122383             76.047660   \n",
       "2            73.014316             33.726316             72.732000   \n",
       "3            72.703722             37.245496             74.195478   \n",
       "4            77.523239             31.191755             76.997301   \n",
       "\n",
       "   mouth_center_top_lip_x  mouth_center_top_lip_y  mouth_center_bottom_lip_x  \\\n",
       "0               43.312602               72.935459                  43.130707   \n",
       "1               46.684596               70.266553                  45.467915   \n",
       "2               47.274947               70.191789                  47.274947   \n",
       "3               50.303165               70.091687                  51.561183   \n",
       "4               44.962748               73.707387                  44.227141   \n",
       "\n",
       "   mouth_center_bottom_lip_y  \n",
       "0                  84.485774  \n",
       "1                  85.480170  \n",
       "2                  78.659368  \n",
       "3                  78.268383  \n",
       "4                  86.871166  \n",
       "\n",
       "[5 rows x 30 columns]"
      ]
     },
     "execution_count": 19,
     "metadata": {},
     "output_type": "execute_result"
    }
   ],
   "source": [
    "dependent_vars.head()"
   ]
  },
  {
   "cell_type": "code",
   "execution_count": null,
   "id": "a10a833a-86cf-4acf-86bb-4ef15b4c7413",
   "metadata": {},
   "outputs": [],
   "source": []
  },
  {
   "cell_type": "code",
   "execution_count": 20,
   "id": "fc062767-41e5-4f45-bafc-105e61cc77e1",
   "metadata": {},
   "outputs": [],
   "source": [
    "dependent_vars = dependent_vars.to_numpy()"
   ]
  },
  {
   "cell_type": "code",
   "execution_count": 21,
   "id": "8ff9d2e6-d459-479e-a6b5-e715589e104c",
   "metadata": {},
   "outputs": [
    {
     "data": {
      "text/plain": [
       "((5000, 96, 96, 1), (5000, 30))"
      ]
     },
     "execution_count": 21,
     "metadata": {},
     "output_type": "execute_result"
    }
   ],
   "source": [
    "# X_train needs to be of shape 7049, 96, 96, 1\n",
    "# Y_train needs to be of shape 7049, 30 (or 7049, 2 in the case of only detecting a single eye)\n",
    "# then yoink X_val and Y_val from X_train and Y_train\n",
    "independent_vars[0:5000].shape, dependent_vars[0:5000].shape "
   ]
  },
  {
   "cell_type": "code",
   "execution_count": 22,
   "id": "07729af6-1657-48b3-8ac8-57e8c157fad4",
   "metadata": {},
   "outputs": [],
   "source": [
    "X_train = independent_vars[:5000]"
   ]
  },
  {
   "cell_type": "code",
   "execution_count": 23,
   "id": "bb9a1f22-dd7e-4536-9a68-d76a22712607",
   "metadata": {},
   "outputs": [],
   "source": [
    "X_val = independent_vars[5000:]"
   ]
  },
  {
   "cell_type": "code",
   "execution_count": 24,
   "id": "11ce3128-eabf-4eae-b72d-3942f6a01037",
   "metadata": {},
   "outputs": [
    {
     "data": {
      "text/plain": [
       "((5000, 96, 96, 1), (2049, 96, 96, 1))"
      ]
     },
     "execution_count": 24,
     "metadata": {},
     "output_type": "execute_result"
    }
   ],
   "source": [
    "X_train.shape, X_val.shape"
   ]
  },
  {
   "cell_type": "code",
   "execution_count": 25,
   "id": "24b522ba-e3d2-4fd5-b913-b68c8ac7b6fe",
   "metadata": {},
   "outputs": [],
   "source": [
    "'''\n",
    "Returns a training set (X, Y),\n",
    "and a validation set (X,Y)\n",
    "\n",
    "usage: \n",
    "X_train, Y_train, X_val, Y_val = create_train_test_sets(df)\n",
    "'''\n",
    "def create_train_test_sets(training_df):\n",
    "    \n",
    "    independent_variable_images = []\n",
    "    for i in range(len(training_df)):\n",
    "        independent_variable_images.append(get_image_arr(i))\n",
    "    image_list = np.array(independent_variable_images,dtype = 'float')\n",
    "    independent_vars = image_list.reshape(-1,96,96,1) #! Optimize\n",
    "    \n",
    "\n",
    "    dependent_vars = training_df.iloc[:,0:30]\n",
    "    dependent_vars = dependent_vars.to_numpy()\n",
    "    \n",
    "    X_train = independent_vars[:5000] # < 5000 --> training set\n",
    "    X_val = independent_vars[5000:]\n",
    "    \n",
    "    Y_train = dependent_vars[:5000]\n",
    "    Y_val = dependent_vars[5000:] # 5000 onward is validation\n",
    "    \n",
    "    return X_train, Y_train, X_val, Y_val\n",
    "    \n",
    "    \n",
    "        \n",
    "    \n",
    "    \n",
    "    "
   ]
  },
  {
   "cell_type": "code",
   "execution_count": null,
   "id": "3ef01ed2-f964-447e-a8f6-9655e3c3db62",
   "metadata": {},
   "outputs": [],
   "source": []
  },
  {
   "cell_type": "code",
   "execution_count": null,
   "id": "3fb67086-8263-4b46-b36e-1ae1302bf083",
   "metadata": {},
   "outputs": [],
   "source": [
    "X, Y, x, y = create_train_test_sets(training_df)"
   ]
  },
  {
   "cell_type": "code",
   "execution_count": null,
   "id": "dc6b3354-9360-4458-a901-d9ef997bf0e5",
   "metadata": {},
   "outputs": [],
   "source": [
    "X.shape, Y.shape, x.shape, y.shape"
   ]
  },
  {
   "cell_type": "code",
   "execution_count": null,
   "id": "d38cf56e-ea81-49a6-a858-bc5895fc2b41",
   "metadata": {},
   "outputs": [],
   "source": []
  },
  {
   "cell_type": "markdown",
   "id": "9e2f28c8-4c3e-43e8-b020-317a959d271a",
   "metadata": {},
   "source": [
    "## Creating a model\n"
   ]
  },
  {
   "cell_type": "code",
   "execution_count": null,
   "id": "fea64431-0952-4f40-b2d2-2dbceeacb297",
   "metadata": {},
   "outputs": [],
   "source": []
  },
  {
   "cell_type": "code",
   "execution_count": null,
   "id": "ed276023-165a-4f99-88dd-d05e15d134ba",
   "metadata": {},
   "outputs": [],
   "source": [
    "type(model)"
   ]
  },
  {
   "cell_type": "code",
   "execution_count": null,
   "id": "efc7218a-76c1-45cd-857a-da8c3b1aa67b",
   "metadata": {},
   "outputs": [],
   "source": [
    "model.eval().conv1 ## First layer of RESNET18"
   ]
  },
  {
   "cell_type": "code",
   "execution_count": null,
   "id": "cdb7fd74-37a0-4e0c-8e29-d81c5114abf0",
   "metadata": {},
   "outputs": [],
   "source": []
  },
  {
   "cell_type": "code",
   "execution_count": null,
   "id": "cb7a287f-c596-4a19-8a51-7fe735a9fc06",
   "metadata": {},
   "outputs": [],
   "source": []
  },
  {
   "cell_type": "code",
   "execution_count": null,
   "id": "49bc0d34-000d-47dd-b8af-50eca6b28fc8",
   "metadata": {},
   "outputs": [],
   "source": []
  },
  {
   "cell_type": "code",
   "execution_count": null,
   "id": "5fc0b1b5-c499-42f4-a973-01310e7464c0",
   "metadata": {},
   "outputs": [],
   "source": []
  },
  {
   "cell_type": "code",
   "execution_count": null,
   "id": "32ac8339-52b8-44a7-a343-8bd6b3fdc70c",
   "metadata": {},
   "outputs": [],
   "source": []
  },
  {
   "cell_type": "code",
   "execution_count": null,
   "id": "7f6b8eae-d738-4b84-b1f8-c1309aaab0fa",
   "metadata": {},
   "outputs": [],
   "source": []
  },
  {
   "cell_type": "code",
   "execution_count": null,
   "id": "1da52d9e-0235-4ab8-96bf-349fc75a0866",
   "metadata": {},
   "outputs": [],
   "source": []
  },
  {
   "cell_type": "code",
   "execution_count": null,
   "id": "61d87192-46b7-4cc5-99df-f63b37394712",
   "metadata": {},
   "outputs": [],
   "source": []
  },
  {
   "cell_type": "code",
   "execution_count": null,
   "id": "68f56f0a-6d22-4166-be93-cf572d2aec02",
   "metadata": {},
   "outputs": [],
   "source": []
  },
  {
   "cell_type": "code",
   "execution_count": null,
   "id": "ed0a96ac-f112-4bdb-85cb-ea440cc31da0",
   "metadata": {},
   "outputs": [],
   "source": []
  }
 ],
 "metadata": {
  "kernelspec": {
   "display_name": "Python 3 (ipykernel)",
   "language": "python",
   "name": "python3"
  },
  "language_info": {
   "codemirror_mode": {
    "name": "ipython",
    "version": 3
   },
   "file_extension": ".py",
   "mimetype": "text/x-python",
   "name": "python",
   "nbconvert_exporter": "python",
   "pygments_lexer": "ipython3",
   "version": "3.9.13"
  }
 },
 "nbformat": 4,
 "nbformat_minor": 5
}
