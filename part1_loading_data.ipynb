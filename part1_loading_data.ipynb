{
 "cells": [
  {
   "cell_type": "markdown",
   "id": "92573b7e-c6f5-494b-826e-12c1ba7bb221",
   "metadata": {},
   "source": [
    "## All imports line below this"
   ]
  },
  {
   "cell_type": "code",
   "execution_count": 110,
   "id": "26b46cdf-b48b-47e5-bcf4-0c3f6d8258c0",
   "metadata": {},
   "outputs": [],
   "source": [
    "## AI \n",
    "from fastai import *\n",
    "\n",
    "## Data Analysis\n",
    "import numpy as np\n",
    "import pandas as pd\n",
    "import matplotlib.pyplot as plt\n",
    "import seaborn as sns\n",
    "\n",
    "# Image Processing\n",
    "from fastai.data.external import *\n",
    "from PIL import Image "
   ]
  },
  {
   "cell_type": "code",
   "execution_count": null,
   "id": "b7dec924-81b6-4af8-bf15-31fe9f773664",
   "metadata": {},
   "outputs": [],
   "source": []
  },
  {
   "cell_type": "markdown",
   "id": "1f0c798f-2f8f-4a21-8bf5-c9fd35a40d28",
   "metadata": {},
   "source": [
    "## Pull Data In"
   ]
  },
  {
   "cell_type": "code",
   "execution_count": 111,
   "id": "a5d5ef85-c878-40b1-bffe-9f8a9422ad9c",
   "metadata": {},
   "outputs": [],
   "source": [
    "training_df = pd.read_csv(\"data/training.csv\")\n",
    "\n",
    "# training_df.head(1)"
   ]
  },
  {
   "cell_type": "code",
   "execution_count": 112,
   "id": "d1b678c2-9df2-4f0a-b393-cf36013f14e8",
   "metadata": {},
   "outputs": [
    {
     "data": {
      "text/html": [
       "<div>\n",
       "<style scoped>\n",
       "    .dataframe tbody tr th:only-of-type {\n",
       "        vertical-align: middle;\n",
       "    }\n",
       "\n",
       "    .dataframe tbody tr th {\n",
       "        vertical-align: top;\n",
       "    }\n",
       "\n",
       "    .dataframe thead th {\n",
       "        text-align: right;\n",
       "    }\n",
       "</style>\n",
       "<table border=\"1\" class=\"dataframe\">\n",
       "  <thead>\n",
       "    <tr style=\"text-align: right;\">\n",
       "      <th></th>\n",
       "      <th>RowId</th>\n",
       "      <th>ImageId</th>\n",
       "      <th>FeatureName</th>\n",
       "      <th>Location</th>\n",
       "    </tr>\n",
       "  </thead>\n",
       "  <tbody>\n",
       "    <tr>\n",
       "      <th>0</th>\n",
       "      <td>1</td>\n",
       "      <td>1</td>\n",
       "      <td>left_eye_center_x</td>\n",
       "      <td>NaN</td>\n",
       "    </tr>\n",
       "  </tbody>\n",
       "</table>\n",
       "</div>"
      ],
      "text/plain": [
       "   RowId  ImageId        FeatureName  Location\n",
       "0      1        1  left_eye_center_x       NaN"
      ]
     },
     "execution_count": 112,
     "metadata": {},
     "output_type": "execute_result"
    }
   ],
   "source": [
    "lookup_df = pd.read_csv(\"data/IdLookupTable.csv\")\n",
    "\n",
    "lookup_df.head(1)"
   ]
  },
  {
   "cell_type": "code",
   "execution_count": 120,
   "id": "cb9781db-14e7-4238-b2fe-162ab393b25e",
   "metadata": {},
   "outputs": [
    {
     "data": {
      "text/plain": [
       "left_eye_center_x          66.033564\n",
       "left_eye_center_y          39.002274\n",
       "right_eye_center_x         30.227008\n",
       "right_eye_center_y         36.421678\n",
       "left_eye_inner_corner_x    59.582075\n",
       "left_eye_inner_corner_y    39.647423\n",
       "left_eye_outer_corner_x    73.130346\n",
       "Name: 0, dtype: object"
      ]
     },
     "execution_count": 120,
     "metadata": {},
     "output_type": "execute_result"
    }
   ],
   "source": [
    "training_df.iloc[0,0:7]"
   ]
  },
  {
   "cell_type": "markdown",
   "id": "5e3fd75b-a45b-409a-9e25-49d49926c609",
   "metadata": {},
   "source": [
    "## Fix up the data a lil"
   ]
  },
  {
   "cell_type": "code",
   "execution_count": 97,
   "id": "97873372-3526-4574-af96-335363fdfd61",
   "metadata": {},
   "outputs": [
    {
     "data": {
      "text/plain": [
       "left_eye_center_x              10\n",
       "left_eye_center_y              10\n",
       "right_eye_center_x             13\n",
       "right_eye_center_y             13\n",
       "left_eye_inner_corner_x      4778\n",
       "left_eye_inner_corner_y      4778\n",
       "left_eye_outer_corner_x      4782\n",
       "left_eye_outer_corner_y      4782\n",
       "right_eye_inner_corner_x     4781\n",
       "right_eye_inner_corner_y     4781\n",
       "right_eye_outer_corner_x     4781\n",
       "right_eye_outer_corner_y     4781\n",
       "left_eyebrow_inner_end_x     4779\n",
       "left_eyebrow_inner_end_y     4779\n",
       "left_eyebrow_outer_end_x     4824\n",
       "left_eyebrow_outer_end_y     4824\n",
       "right_eyebrow_inner_end_x    4779\n",
       "right_eyebrow_inner_end_y    4779\n",
       "right_eyebrow_outer_end_x    4813\n",
       "right_eyebrow_outer_end_y    4813\n",
       "nose_tip_x                      0\n",
       "nose_tip_y                      0\n",
       "mouth_left_corner_x          4780\n",
       "mouth_left_corner_y          4780\n",
       "mouth_right_corner_x         4779\n",
       "mouth_right_corner_y         4779\n",
       "mouth_center_top_lip_x       4774\n",
       "mouth_center_top_lip_y       4774\n",
       "mouth_center_bottom_lip_x      33\n",
       "mouth_center_bottom_lip_y      33\n",
       "Image                           0\n",
       "dtype: int64"
      ]
     },
     "execution_count": 97,
     "metadata": {},
     "output_type": "execute_result"
    }
   ],
   "source": [
    "# find if any NA in the training data\n",
    "training_df.isna().sum()"
   ]
  },
  {
   "cell_type": "code",
   "execution_count": 98,
   "id": "5c8d77cb-78a8-4b49-973d-19db347c1475",
   "metadata": {},
   "outputs": [],
   "source": [
    "training_df.fillna(method = 'ffill',inplace = True)"
   ]
  },
  {
   "cell_type": "code",
   "execution_count": null,
   "id": "d4594145-65fa-48d8-bd47-ce2c66506cd4",
   "metadata": {},
   "outputs": [],
   "source": []
  },
  {
   "cell_type": "code",
   "execution_count": null,
   "id": "b337bb1a-438a-4ac2-b2d6-2c98e05d56bf",
   "metadata": {},
   "outputs": [],
   "source": []
  },
  {
   "cell_type": "code",
   "execution_count": null,
   "id": "9ab6ddad-f32c-4c51-b901-9e59ca7cc00d",
   "metadata": {},
   "outputs": [],
   "source": []
  },
  {
   "cell_type": "markdown",
   "id": "4f155400-4874-4785-b5c7-1198b7ab8bad",
   "metadata": {},
   "source": [
    "## Show an Image"
   ]
  },
  {
   "cell_type": "code",
   "execution_count": 99,
   "id": "08020713",
   "metadata": {},
   "outputs": [],
   "source": [
    "images = training_df['Image']"
   ]
  },
  {
   "cell_type": "code",
   "execution_count": 100,
   "id": "99a6d9f2-9d04-43f5-83c6-0d1ecdff6423",
   "metadata": {},
   "outputs": [
    {
     "data": {
      "text/plain": [
       "str"
      ]
     },
     "execution_count": 100,
     "metadata": {},
     "output_type": "execute_result"
    }
   ],
   "source": [
    "type(images[1])"
   ]
  },
  {
   "cell_type": "code",
   "execution_count": 101,
   "id": "c8f7fdf4",
   "metadata": {},
   "outputs": [],
   "source": [
    "# turn image string into an array \n",
    "arr = np.fromstring(images[1], dtype=int, sep=' ')\n"
   ]
  },
  {
   "cell_type": "code",
   "execution_count": 102,
   "id": "14f1b028-0484-4e6c-b252-97fb794c453d",
   "metadata": {},
   "outputs": [
    {
     "name": "stdout",
     "output_type": "stream",
     "text": [
      "(9216,)\n",
      "[219 215 204 ...   1   1   1]\n"
     ]
    }
   ],
   "source": [
    "print(arr.shape)\n",
    "print(arr)"
   ]
  },
  {
   "cell_type": "code",
   "execution_count": 103,
   "id": "4d2d15bc-72ef-41b4-93cf-407f4ab5e81b",
   "metadata": {},
   "outputs": [
    {
     "data": {
      "text/plain": [
       "96.0"
      ]
     },
     "execution_count": 103,
     "metadata": {},
     "output_type": "execute_result"
    }
   ],
   "source": [
    "import math\n",
    "math.sqrt(9216)\n",
    "# 96x96 images"
   ]
  },
  {
   "cell_type": "code",
   "execution_count": 104,
   "id": "7ac80baf-c36a-4e28-a58c-27e9fad87f34",
   "metadata": {},
   "outputs": [
    {
     "data": {
      "text/plain": [
       "(numpy.ndarray, numpy.int64)"
      ]
     },
     "execution_count": 104,
     "metadata": {},
     "output_type": "execute_result"
    }
   ],
   "source": [
    "type(arr), type(arr[0])"
   ]
  },
  {
   "cell_type": "code",
   "execution_count": 105,
   "id": "6246e68f-1bbb-440e-b640-03720e96a7b3",
   "metadata": {},
   "outputs": [],
   "source": [
    "## Findings: so now we have a numpy array that represents a 96x96 image, now to use some other library to plot it. "
   ]
  },
  {
   "cell_type": "code",
   "execution_count": 106,
   "id": "af322dac-9d15-40fe-9698-a570683cd74e",
   "metadata": {},
   "outputs": [
    {
     "data": {
      "text/plain": [
       "<matplotlib.image.AxesImage at 0x7f4fc4a0d7f0>"
      ]
     },
     "execution_count": 106,
     "metadata": {},
     "output_type": "execute_result"
    },
    {
     "data": {
      "image/png": "[encoded data removed]",
      "text/plain": [
       "<Figure size 432x288 with 1 Axes>"
      ]
     },
     "metadata": {
      "needs_background": "light"
     },
     "output_type": "display_data"
    }
   ],
   "source": [
    "plt.imshow(arr.reshape(96,96),cmap='gray')"
   ]
  },
  {
   "cell_type": "code",
   "execution_count": null,
   "id": "15115efc",
   "metadata": {},
   "outputs": [],
   "source": []
  },
  {
   "cell_type": "code",
   "execution_count": null,
   "id": "ebc3a486",
   "metadata": {},
   "outputs": [],
   "source": []
  },
  {
   "cell_type": "markdown",
   "id": "5fa0665b-49d3-48e8-8950-c4fce1bda8e7",
   "metadata": {},
   "source": [
    "## Now, to show the key points on each image"
   ]
  },
  {
   "cell_type": "code",
   "execution_count": 107,
   "id": "4ed1d2bb-de88-4fd3-8850-9a6bd0c7e4e1",
   "metadata": {},
   "outputs": [
    {
     "data": {
      "text/plain": [
       "left_eye_center_x          64.332936\n",
       "left_eye_center_y          34.970077\n",
       "right_eye_center_x         29.949277\n",
       "right_eye_center_y         33.448715\n",
       "left_eye_inner_corner_x     58.85617\n",
       "Name: 1, dtype: object"
      ]
     },
     "execution_count": 107,
     "metadata": {},
     "output_type": "execute_result"
    }
   ],
   "source": [
    "training_df.iloc[1].head()"
   ]
  },
  {
   "cell_type": "code",
   "execution_count": null,
   "id": "fc0f3086-a950-4681-b9b0-011072b8099d",
   "metadata": {},
   "outputs": [],
   "source": []
  },
  {
   "cell_type": "code",
   "execution_count": null,
   "id": "3fc61c7a-b99d-440f-8d0c-e870241a2d24",
   "metadata": {},
   "outputs": [],
   "source": []
  },
  {
   "cell_type": "code",
   "execution_count": 108,
   "id": "609cffbb-6e0c-4271-8d54-1252afd5e359",
   "metadata": {},
   "outputs": [],
   "source": [
    "coord_arr = []\n",
    "\n",
    "for i in range(0,30,2):\n",
    "    coord = training_df.iloc[1][i],training_df.iloc[1][i+1]\n",
    "    coord_arr.append(coord)\n",
    "    "
   ]
  },
  {
   "cell_type": "code",
   "execution_count": null,
   "id": "e2cf0e2d-ee33-44de-933e-09d139ae183c",
   "metadata": {},
   "outputs": [],
   "source": []
  },
  {
   "cell_type": "code",
   "execution_count": 109,
   "id": "9dcce16b-30ab-42e0-965e-379fec5c5e91",
   "metadata": {},
   "outputs": [
    {
     "data": {
      "image/png": "[encoded data removed]",
      "text/plain": [
       "<Figure size 432x288 with 1 Axes>"
      ]
     },
     "metadata": {
      "needs_background": "light"
     },
     "output_type": "display_data"
    }
   ],
   "source": [
    "plt.imshow(arr.reshape(96,96),cmap='gray')\n",
    "coord_arr2 = coord_arr[0:30]\n",
    "for coord in coord_arr2:\n",
    "    plt.scatter(coord[0],coord[1],c='r', marker='s', s=50, alpha=.5)\n",
    "    \n",
    "    "
   ]
  },
  {
   "cell_type": "code",
   "execution_count": null,
   "id": "bfc52696-260d-44ae-b99e-44e5c4282863",
   "metadata": {},
   "outputs": [],
   "source": []
  },
  {
   "cell_type": "code",
   "execution_count": null,
   "id": "6007e2ff-8d90-4c1b-8567-2ad9d5043b9f",
   "metadata": {},
   "outputs": [],
   "source": []
  },
  {
   "cell_type": "code",
   "execution_count": null,
   "id": "94fb73df-c9b9-4907-8c2e-240f203dc94c",
   "metadata": {},
   "outputs": [],
   "source": []
  },
  {
   "cell_type": "code",
   "execution_count": null,
   "id": "d0c09e4f-dd0c-4b7b-997e-89b6ab019b83",
   "metadata": {},
   "outputs": [],
   "source": []
  },
  {
   "cell_type": "code",
   "execution_count": null,
   "id": "939c872c-10c9-4006-a5b3-b5de690a9961",
   "metadata": {},
   "outputs": [],
   "source": []
  },
  {
   "cell_type": "code",
   "execution_count": null,
   "id": "1386b9f9-4b99-469e-a4c1-bb5be4c34d0f",
   "metadata": {},
   "outputs": [],
   "source": []
  },
  {
   "cell_type": "code",
   "execution_count": null,
   "id": "bec45768-9412-456d-b239-66fa8f8db258",
   "metadata": {},
   "outputs": [],
   "source": []
  }
 ],
 "metadata": {
  "kernelspec": {
   "display_name": "Python 3 (ipykernel)",
   "language": "python",
   "name": "python3"
  },
  "language_info": {
   "codemirror_mode": {
    "name": "ipython",
    "version": 3
   },
   "file_extension": ".py",
   "mimetype": "text/x-python",
   "name": "python",
   "nbconvert_exporter": "python",
   "pygments_lexer": "ipython3",
   "version": "3.9.13"
  }
 },
 "nbformat": 4,
 "nbformat_minor": 5
}
