{
 "cells": [
  {
   "cell_type": "code",
   "execution_count": 1,
   "id": "6cea7897-6033-4325-a80d-21351e42ee83",
   "metadata": {},
   "outputs": [
    {
     "data": {
      "text/plain": [
       "'cuda'"
      ]
     },
     "execution_count": 1,
     "metadata": {},
     "output_type": "execute_result"
    }
   ],
   "source": [
    "from utils.notebook_2_utils import * \n",
    "import utils.notebook_2_utils as utils\n",
    "\n",
    "training_df = pd.read_csv(\"data/training.csv\")#.iloc[:1000]\n",
    "lookup_df = pd.read_csv(\"data/IdLookupTable.csv\")\n",
    "training_df.fillna(method = 'ffill',inplace = True)\n",
    "\n",
    "import math\n",
    "\n",
    "\n",
    "device = \"cuda\" if torch.cuda.is_available() else \"cpu\"\n",
    "device"
   ]
  },
  {
   "cell_type": "code",
   "execution_count": 2,
   "id": "a3f050b1-6529-409a-9183-1845badd99e8",
   "metadata": {},
   "outputs": [],
   "source": [
    "train_X, train_Y, val_X, val_Y = create_train_test_sets_nchw(training_df, normalize=True)"
   ]
  },
  {
   "cell_type": "code",
   "execution_count": null,
   "id": "4f7629da-e48d-40d3-95eb-718337d2c576",
   "metadata": {},
   "outputs": [],
   "source": []
  },
  {
   "cell_type": "markdown",
   "id": "3e997724-0722-48c5-a13a-607178603462",
   "metadata": {},
   "source": [
    "## Very Simple CNN Model\n",
    "* Input shape:  64, 1, 96, 96 (nchw)\n",
    "* Output shape: 64, 30 (nc)\n"
   ]
  },
  {
   "cell_type": "code",
   "execution_count": 3,
   "id": "e7ebfb08-d143-42bc-ba71-5c1383f60e9b",
   "metadata": {},
   "outputs": [],
   "source": [
    "import torch\n",
    "import torch.nn as nn\n",
    "import torch.optim as optim\n",
    "# from sklearn.model_selection import train_test_split\n",
    "import torch.nn.functional as F"
   ]
  },
  {
   "cell_type": "markdown",
   "id": "087d371b-b988-4055-bdc4-86c844901904",
   "metadata": {},
   "source": [
    "### Model Definition"
   ]
  },
  {
   "cell_type": "code",
   "execution_count": 4,
   "id": "30eacd5f-388f-43e0-98ac-d47402292239",
   "metadata": {},
   "outputs": [],
   "source": [
    "class CNN(nn.Module):\n",
    "    def __init__(self, input_shape: int, hidden_dim: int, output_dim: int):\n",
    "        super(CNN, self).__init__()\n",
    "        self.conv1 = nn.Conv2d(in_channels=input_shape, out_channels=hidden_dim, kernel_size=3, stride=1, padding=1)\n",
    "        self.conv2 = nn.Conv2d(in_channels=hidden_dim, out_channels=hidden_dim, kernel_size=3, stride=1, padding=1)\n",
    "        self.fc1 = nn.Linear(hidden_dim * 24 * 24, hidden_dim) #this is multiplied by 7*7 because the image is 28*28 and we have 2 conv layers with stride 1 and padding 1\n",
    "        self.fc2 = nn.Linear(hidden_dim, output_dim)\n",
    "        \n",
    "    def forward(self, x):\n",
    "        x = F.relu(self.conv1(x))\n",
    "        x = F.max_pool2d(x, kernel_size=2, stride=2)\n",
    "        x = F.relu(self.conv2(x))\n",
    "        x = F.max_pool2d(x, kernel_size=2, stride=2)\n",
    "        x = x.reshape(x.shape[0], -1)\n",
    "        x = F.relu(self.fc1(x))\n",
    "        x = self.fc2(x)\n",
    "        return x"
   ]
  },
  {
   "cell_type": "code",
   "execution_count": null,
   "id": "492ce700-b41f-4c44-a5a7-b55916731ee4",
   "metadata": {},
   "outputs": [],
   "source": [
    "\n"
   ]
  },
  {
   "cell_type": "markdown",
   "id": "1ee7ff48-ed7a-4ad3-8340-1d518917bdd4",
   "metadata": {},
   "source": [
    "## Control Panel"
   ]
  },
  {
   "cell_type": "code",
   "execution_count": 5,
   "id": "bed53bd1-43f8-4d82-9d9b-c9284a7cf67e",
   "metadata": {},
   "outputs": [],
   "source": [
    "cnn = CNN(input_shape=1, hidden_dim=64, output_dim=30)\n",
    "\n",
    "EPOCHS = 40\n",
    "LEARNING_RATE = .02\n",
    "BATCH_SIZE = 32\n",
    "\n",
    "\n",
    "loss_fn = torch.nn.MSELoss()\n",
    "optimizer = torch.optim.SGD(cnn.parameters(), lr=LEARNING_RATE)\n",
    "\n",
    "\n",
    "\n"
   ]
  },
  {
   "cell_type": "markdown",
   "id": "339c9fa1-abd6-4b7b-be71-f5544efa3488",
   "metadata": {},
   "source": [
    "### DataLoaders"
   ]
  },
  {
   "cell_type": "code",
   "execution_count": 6,
   "id": "20a434de-1538-4f47-a713-062a6f1a4229",
   "metadata": {},
   "outputs": [],
   "source": [
    "torch.manual_seed(42)\n",
    "from torch.utils.data import TensorDataset, DataLoader\n",
    "\n",
    "\n",
    "# Put data to target device\n",
    "train_X, train_Y = train_X.to(device), train_Y.to(device)\n",
    "val_X, val_Y = val_X.to(device), val_Y.to(device)\n",
    "cnn = cnn.to(device)\n",
    "\n",
    "train_dataset = TensorDataset(train_X, train_Y)\n",
    "train_dataloader = DataLoader(train_dataset, batch_size=BATCH_SIZE, shuffle=True)\n",
    "\n",
    "test_dataset = TensorDataset(val_X, val_Y)\n",
    "test_dataloader = DataLoader(test_dataset, batch_size=BATCH_SIZE, shuffle=True)"
   ]
  },
  {
   "cell_type": "code",
   "execution_count": 7,
   "id": "4c638940-85af-4602-bf14-a032bf45ff8f",
   "metadata": {},
   "outputs": [
    {
     "name": "stdout",
     "output_type": "stream",
     "text": [
      "torch.Size([32, 1, 96, 96]) torch.Size([32, 30])\n"
     ]
    }
   ],
   "source": [
    "for X_batch, y_batch in train_dataloader:\n",
    "    print(X_batch.shape, y_batch.shape)\n",
    "    break"
   ]
  },
  {
   "cell_type": "code",
   "execution_count": 8,
   "id": "86da1397-2b7e-4777-b40b-e40dd6a5db7f",
   "metadata": {},
   "outputs": [
    {
     "name": "stdout",
     "output_type": "stream",
     "text": [
      "torch.Size([32, 1, 96, 96]) torch.Size([32, 30])\n"
     ]
    }
   ],
   "source": [
    "for X_batch, y_batch in test_dataloader:\n",
    "    print(X_batch.shape, y_batch.shape)\n",
    "    break"
   ]
  },
  {
   "cell_type": "code",
   "execution_count": 9,
   "id": "12ad2841-864e-486b-8311-fd2221b83b4d",
   "metadata": {},
   "outputs": [
    {
     "name": "stdout",
     "output_type": "stream",
     "text": [
      "batch input:  torch.Size([32, 1, 96, 96])\n",
      "batch idx:  0\n",
      "batch label:  torch.Size([32, 30])\n",
      "---------- test dataloader -------\n",
      "0 torch.Size([32, 1, 96, 96])\n",
      "0 torch.Size([32, 30])\n"
     ]
    }
   ],
   "source": [
    "for idx,batch in enumerate(train_dataloader):\n",
    "    print(\"batch input: \", batch[0].size())\n",
    "    print(\"batch idx: \",  idx)\n",
    "    print(\"batch label: \" , batch[1].shape)\n",
    "    break\n",
    "\n",
    "print(\"---------- test dataloader -------\")\n",
    "for idx, (data,target) in enumerate(test_dataloader):\n",
    "    print(idx, data.shape)\n",
    "    print(idx, target.shape)\n",
    "    break"
   ]
  },
  {
   "cell_type": "code",
   "execution_count": null,
   "id": "a15978b1-0307-45ff-8296-6a29bc257be6",
   "metadata": {},
   "outputs": [],
   "source": [
    "\n"
   ]
  },
  {
   "cell_type": "markdown",
   "id": "41d7e2dc-621f-4849-9598-ef30992060e3",
   "metadata": {},
   "source": [
    "## Learning Rate finder\n",
    "* use exponentially increasing learning rate, starting at init."
   ]
  },
  {
   "cell_type": "code",
   "execution_count": 10,
   "id": "b86b4df8-53f1-4e33-85b9-1368b7fad442",
   "metadata": {},
   "outputs": [],
   "source": [
    "final_lr = 10\n",
    "init_lr = 1e-10\n",
    "num_iters = 100"
   ]
  },
  {
   "cell_type": "code",
   "execution_count": 11,
   "id": "0cd8774e-c3a6-4ae2-8ff2-39a83e0df893",
   "metadata": {},
   "outputs": [
    {
     "data": {
      "text/plain": [
       "(-10.0, 1.0)"
      ]
     },
     "execution_count": 11,
     "metadata": {},
     "output_type": "execute_result"
    }
   ],
   "source": [
    "init, final = math.log(init_lr, 10), math.log(final_lr, 10)\n",
    "init,final"
   ]
  },
  {
   "cell_type": "code",
   "execution_count": 12,
   "id": "6215baf3-ea03-4d63-ac5b-05558779519f",
   "metadata": {},
   "outputs": [
    {
     "data": {
      "text/plain": [
       "(array([1.00000000e-10, 1.29154967e-10, 1.66810054e-10, 2.15443469e-10,\n",
       "        2.78255940e-10]),\n",
       " array([ 3.59381366,  4.64158883,  5.9948425 ,  7.74263683, 10.        ]))"
      ]
     },
     "execution_count": 12,
     "metadata": {},
     "output_type": "execute_result"
    }
   ],
   "source": [
    "x = np.logspace(init, final, num=100)\n",
    "x[:5],x[95:]"
   ]
  },
  {
   "cell_type": "code",
   "execution_count": null,
   "id": "5d850ecd-08ec-4c79-870c-e2b3e6306e5a",
   "metadata": {},
   "outputs": [],
   "source": []
  },
  {
   "cell_type": "code",
   "execution_count": null,
   "id": "17e3e67c-ac88-43e7-a026-15a1249479b9",
   "metadata": {},
   "outputs": [],
   "source": []
  },
  {
   "cell_type": "code",
   "execution_count": null,
   "id": "76301d35-0682-4d77-8be1-5591013a1dd6",
   "metadata": {},
   "outputs": [],
   "source": []
  },
  {
   "cell_type": "code",
   "execution_count": 13,
   "id": "2685dbd4-b6f4-45a1-8e2c-0fcb082fdab6",
   "metadata": {},
   "outputs": [
    {
     "name": "stdout",
     "output_type": "stream",
     "text": [
      "torch.Size([32, 1, 96, 96]) torch.Size([32, 30])\n",
      "torch.Size([32, 1, 96, 96]) torch.Size([32, 30])\n",
      "torch.Size([32, 1, 96, 96]) torch.Size([32, 30])\n",
      "torch.Size([32, 1, 96, 96]) torch.Size([32, 30])\n",
      "torch.Size([32, 1, 96, 96]) torch.Size([32, 30])\n",
      "torch.Size([32, 1, 96, 96]) torch.Size([32, 30])\n",
      "torch.Size([32, 1, 96, 96]) torch.Size([32, 30])\n",
      "torch.Size([32, 1, 96, 96]) torch.Size([32, 30])\n",
      "torch.Size([32, 1, 96, 96]) torch.Size([32, 30])\n",
      "torch.Size([32, 1, 96, 96]) torch.Size([32, 30])\n",
      "torch.Size([32, 1, 96, 96]) torch.Size([32, 30])\n",
      "torch.Size([32, 1, 96, 96]) torch.Size([32, 30])\n",
      "torch.Size([32, 1, 96, 96]) torch.Size([32, 30])\n",
      "torch.Size([32, 1, 96, 96]) torch.Size([32, 30])\n",
      "torch.Size([32, 1, 96, 96]) torch.Size([32, 30])\n",
      "torch.Size([32, 1, 96, 96]) torch.Size([32, 30])\n",
      "torch.Size([32, 1, 96, 96]) torch.Size([32, 30])\n",
      "torch.Size([32, 1, 96, 96]) torch.Size([32, 30])\n",
      "torch.Size([32, 1, 96, 96]) torch.Size([32, 30])\n",
      "torch.Size([32, 1, 96, 96]) torch.Size([32, 30])\n",
      "torch.Size([32, 1, 96, 96]) torch.Size([32, 30])\n",
      "torch.Size([32, 1, 96, 96]) torch.Size([32, 30])\n",
      "torch.Size([32, 1, 96, 96]) torch.Size([32, 30])\n",
      "torch.Size([32, 1, 96, 96]) torch.Size([32, 30])\n",
      "torch.Size([32, 1, 96, 96]) torch.Size([32, 30])\n",
      "torch.Size([32, 1, 96, 96]) torch.Size([32, 30])\n",
      "torch.Size([32, 1, 96, 96]) torch.Size([32, 30])\n",
      "torch.Size([32, 1, 96, 96]) torch.Size([32, 30])\n",
      "torch.Size([32, 1, 96, 96]) torch.Size([32, 30])\n",
      "torch.Size([32, 1, 96, 96]) torch.Size([32, 30])\n",
      "torch.Size([32, 1, 96, 96]) torch.Size([32, 30])\n",
      "torch.Size([32, 1, 96, 96]) torch.Size([32, 30])\n",
      "torch.Size([32, 1, 96, 96]) torch.Size([32, 30])\n",
      "torch.Size([32, 1, 96, 96]) torch.Size([32, 30])\n",
      "torch.Size([32, 1, 96, 96]) torch.Size([32, 30])\n",
      "torch.Size([32, 1, 96, 96]) torch.Size([32, 30])\n",
      "torch.Size([32, 1, 96, 96]) torch.Size([32, 30])\n",
      "torch.Size([32, 1, 96, 96]) torch.Size([32, 30])\n",
      "torch.Size([32, 1, 96, 96]) torch.Size([32, 30])\n",
      "torch.Size([32, 1, 96, 96]) torch.Size([32, 30])\n",
      "torch.Size([32, 1, 96, 96]) torch.Size([32, 30])\n",
      "torch.Size([32, 1, 96, 96]) torch.Size([32, 30])\n",
      "torch.Size([32, 1, 96, 96]) torch.Size([32, 30])\n",
      "torch.Size([32, 1, 96, 96]) torch.Size([32, 30])\n",
      "torch.Size([32, 1, 96, 96]) torch.Size([32, 30])\n",
      "torch.Size([32, 1, 96, 96]) torch.Size([32, 30])\n",
      "torch.Size([32, 1, 96, 96]) torch.Size([32, 30])\n",
      "torch.Size([32, 1, 96, 96]) torch.Size([32, 30])\n",
      "torch.Size([32, 1, 96, 96]) torch.Size([32, 30])\n",
      "torch.Size([32, 1, 96, 96]) torch.Size([32, 30])\n",
      "torch.Size([32, 1, 96, 96]) torch.Size([32, 30])\n",
      "torch.Size([32, 1, 96, 96]) torch.Size([32, 30])\n",
      "torch.Size([32, 1, 96, 96]) torch.Size([32, 30])\n",
      "torch.Size([32, 1, 96, 96]) torch.Size([32, 30])\n",
      "torch.Size([32, 1, 96, 96]) torch.Size([32, 30])\n",
      "torch.Size([32, 1, 96, 96]) torch.Size([32, 30])\n",
      "torch.Size([32, 1, 96, 96]) torch.Size([32, 30])\n",
      "torch.Size([32, 1, 96, 96]) torch.Size([32, 30])\n",
      "torch.Size([32, 1, 96, 96]) torch.Size([32, 30])\n",
      "torch.Size([32, 1, 96, 96]) torch.Size([32, 30])\n",
      "torch.Size([32, 1, 96, 96]) torch.Size([32, 30])\n",
      "torch.Size([32, 1, 96, 96]) torch.Size([32, 30])\n",
      "torch.Size([32, 1, 96, 96]) torch.Size([32, 30])\n",
      "torch.Size([32, 1, 96, 96]) torch.Size([32, 30])\n",
      "torch.Size([32, 1, 96, 96]) torch.Size([32, 30])\n",
      "torch.Size([32, 1, 96, 96]) torch.Size([32, 30])\n",
      "torch.Size([32, 1, 96, 96]) torch.Size([32, 30])\n",
      "torch.Size([32, 1, 96, 96]) torch.Size([32, 30])\n",
      "torch.Size([32, 1, 96, 96]) torch.Size([32, 30])\n",
      "torch.Size([32, 1, 96, 96]) torch.Size([32, 30])\n",
      "torch.Size([32, 1, 96, 96]) torch.Size([32, 30])\n",
      "torch.Size([32, 1, 96, 96]) torch.Size([32, 30])\n",
      "torch.Size([32, 1, 96, 96]) torch.Size([32, 30])\n",
      "torch.Size([32, 1, 96, 96]) torch.Size([32, 30])\n",
      "torch.Size([32, 1, 96, 96]) torch.Size([32, 30])\n",
      "torch.Size([32, 1, 96, 96]) torch.Size([32, 30])\n",
      "torch.Size([32, 1, 96, 96]) torch.Size([32, 30])\n",
      "torch.Size([32, 1, 96, 96]) torch.Size([32, 30])\n",
      "torch.Size([32, 1, 96, 96]) torch.Size([32, 30])\n",
      "torch.Size([32, 1, 96, 96]) torch.Size([32, 30])\n",
      "torch.Size([32, 1, 96, 96]) torch.Size([32, 30])\n",
      "torch.Size([32, 1, 96, 96]) torch.Size([32, 30])\n",
      "torch.Size([32, 1, 96, 96]) torch.Size([32, 30])\n",
      "torch.Size([32, 1, 96, 96]) torch.Size([32, 30])\n",
      "torch.Size([32, 1, 96, 96]) torch.Size([32, 30])\n",
      "torch.Size([32, 1, 96, 96]) torch.Size([32, 30])\n",
      "torch.Size([32, 1, 96, 96]) torch.Size([32, 30])\n",
      "torch.Size([32, 1, 96, 96]) torch.Size([32, 30])\n",
      "torch.Size([32, 1, 96, 96]) torch.Size([32, 30])\n",
      "torch.Size([32, 1, 96, 96]) torch.Size([32, 30])\n",
      "torch.Size([32, 1, 96, 96]) torch.Size([32, 30])\n",
      "torch.Size([32, 1, 96, 96]) torch.Size([32, 30])\n",
      "torch.Size([32, 1, 96, 96]) torch.Size([32, 30])\n",
      "torch.Size([32, 1, 96, 96]) torch.Size([32, 30])\n",
      "torch.Size([32, 1, 96, 96]) torch.Size([32, 30])\n",
      "torch.Size([32, 1, 96, 96]) torch.Size([32, 30])\n",
      "torch.Size([32, 1, 96, 96]) torch.Size([32, 30])\n",
      "torch.Size([32, 1, 96, 96]) torch.Size([32, 30])\n",
      "torch.Size([32, 1, 96, 96]) torch.Size([32, 30])\n",
      "torch.Size([32, 1, 96, 96]) torch.Size([32, 30])\n",
      "torch.Size([32, 1, 96, 96]) torch.Size([32, 30])\n",
      "torch.Size([32, 1, 96, 96]) torch.Size([32, 30])\n",
      "torch.Size([32, 1, 96, 96]) torch.Size([32, 30])\n",
      "torch.Size([32, 1, 96, 96]) torch.Size([32, 30])\n",
      "torch.Size([32, 1, 96, 96]) torch.Size([32, 30])\n",
      "torch.Size([32, 1, 96, 96]) torch.Size([32, 30])\n",
      "torch.Size([32, 1, 96, 96]) torch.Size([32, 30])\n",
      "torch.Size([32, 1, 96, 96]) torch.Size([32, 30])\n",
      "torch.Size([32, 1, 96, 96]) torch.Size([32, 30])\n",
      "torch.Size([32, 1, 96, 96]) torch.Size([32, 30])\n",
      "torch.Size([32, 1, 96, 96]) torch.Size([32, 30])\n",
      "torch.Size([32, 1, 96, 96]) torch.Size([32, 30])\n",
      "torch.Size([32, 1, 96, 96]) torch.Size([32, 30])\n",
      "torch.Size([32, 1, 96, 96]) torch.Size([32, 30])\n",
      "torch.Size([32, 1, 96, 96]) torch.Size([32, 30])\n",
      "torch.Size([32, 1, 96, 96]) torch.Size([32, 30])\n",
      "torch.Size([32, 1, 96, 96]) torch.Size([32, 30])\n",
      "torch.Size([32, 1, 96, 96]) torch.Size([32, 30])\n",
      "torch.Size([32, 1, 96, 96]) torch.Size([32, 30])\n",
      "torch.Size([32, 1, 96, 96]) torch.Size([32, 30])\n",
      "torch.Size([32, 1, 96, 96]) torch.Size([32, 30])\n",
      "torch.Size([32, 1, 96, 96]) torch.Size([32, 30])\n",
      "torch.Size([32, 1, 96, 96]) torch.Size([32, 30])\n",
      "torch.Size([32, 1, 96, 96]) torch.Size([32, 30])\n",
      "torch.Size([32, 1, 96, 96]) torch.Size([32, 30])\n",
      "torch.Size([32, 1, 96, 96]) torch.Size([32, 30])\n",
      "torch.Size([32, 1, 96, 96]) torch.Size([32, 30])\n",
      "torch.Size([32, 1, 96, 96]) torch.Size([32, 30])\n",
      "torch.Size([32, 1, 96, 96]) torch.Size([32, 30])\n",
      "torch.Size([32, 1, 96, 96]) torch.Size([32, 30])\n",
      "torch.Size([32, 1, 96, 96]) torch.Size([32, 30])\n",
      "torch.Size([32, 1, 96, 96]) torch.Size([32, 30])\n",
      "torch.Size([32, 1, 96, 96]) torch.Size([32, 30])\n",
      "torch.Size([32, 1, 96, 96]) torch.Size([32, 30])\n",
      "torch.Size([32, 1, 96, 96]) torch.Size([32, 30])\n",
      "torch.Size([32, 1, 96, 96]) torch.Size([32, 30])\n",
      "torch.Size([32, 1, 96, 96]) torch.Size([32, 30])\n",
      "torch.Size([32, 1, 96, 96]) torch.Size([32, 30])\n",
      "torch.Size([32, 1, 96, 96]) torch.Size([32, 30])\n",
      "torch.Size([32, 1, 96, 96]) torch.Size([32, 30])\n",
      "torch.Size([32, 1, 96, 96]) torch.Size([32, 30])\n",
      "torch.Size([32, 1, 96, 96]) torch.Size([32, 30])\n",
      "torch.Size([32, 1, 96, 96]) torch.Size([32, 30])\n",
      "torch.Size([32, 1, 96, 96]) torch.Size([32, 30])\n",
      "torch.Size([32, 1, 96, 96]) torch.Size([32, 30])\n",
      "torch.Size([32, 1, 96, 96]) torch.Size([32, 30])\n",
      "torch.Size([32, 1, 96, 96]) torch.Size([32, 30])\n",
      "torch.Size([32, 1, 96, 96]) torch.Size([32, 30])\n",
      "torch.Size([32, 1, 96, 96]) torch.Size([32, 30])\n",
      "torch.Size([32, 1, 96, 96]) torch.Size([32, 30])\n",
      "torch.Size([32, 1, 96, 96]) torch.Size([32, 30])\n",
      "torch.Size([32, 1, 96, 96]) torch.Size([32, 30])\n",
      "torch.Size([32, 1, 96, 96]) torch.Size([32, 30])\n",
      "torch.Size([32, 1, 96, 96]) torch.Size([32, 30])\n",
      "torch.Size([32, 1, 96, 96]) torch.Size([32, 30])\n",
      "torch.Size([32, 1, 96, 96]) torch.Size([32, 30])\n",
      "torch.Size([32, 1, 96, 96]) torch.Size([32, 30])\n",
      "torch.Size([32, 1, 96, 96]) torch.Size([32, 30])\n",
      "torch.Size([32, 1, 96, 96]) torch.Size([32, 30])\n",
      "torch.Size([32, 1, 96, 96]) torch.Size([32, 30])\n",
      "torch.Size([32, 1, 96, 96]) torch.Size([32, 30])\n",
      "torch.Size([32, 1, 96, 96]) torch.Size([32, 30])\n",
      "torch.Size([32, 1, 96, 96]) torch.Size([32, 30])\n",
      "torch.Size([32, 1, 96, 96]) torch.Size([32, 30])\n",
      "torch.Size([32, 1, 96, 96]) torch.Size([32, 30])\n",
      "torch.Size([32, 1, 96, 96]) torch.Size([32, 30])\n",
      "torch.Size([32, 1, 96, 96]) torch.Size([32, 30])\n",
      "torch.Size([32, 1, 96, 96]) torch.Size([32, 30])\n",
      "torch.Size([32, 1, 96, 96]) torch.Size([32, 30])\n",
      "torch.Size([32, 1, 96, 96]) torch.Size([32, 30])\n",
      "torch.Size([32, 1, 96, 96]) torch.Size([32, 30])\n",
      "torch.Size([32, 1, 96, 96]) torch.Size([32, 30])\n",
      "torch.Size([32, 1, 96, 96]) torch.Size([32, 30])\n",
      "torch.Size([32, 1, 96, 96]) torch.Size([32, 30])\n",
      "torch.Size([32, 1, 96, 96]) torch.Size([32, 30])\n",
      "torch.Size([32, 1, 96, 96]) torch.Size([32, 30])\n",
      "torch.Size([8, 1, 96, 96]) torch.Size([8, 30])\n"
     ]
    }
   ],
   "source": [
    "for idx, batch in train_dataloader:\n",
    "    print(idx.shape, batch.shape)"
   ]
  },
  {
   "cell_type": "code",
   "execution_count": 14,
   "id": "25b066e9-f62f-407f-9889-3c58544b025b",
   "metadata": {},
   "outputs": [
    {
     "name": "stdout",
     "output_type": "stream",
     "text": [
      "0\n",
      "1\n",
      "2\n",
      "3\n",
      "4\n",
      "5\n",
      "6\n",
      "7\n",
      "8\n",
      "9\n",
      "10\n",
      "11\n",
      "12\n",
      "13\n",
      "14\n",
      "15\n",
      "16\n",
      "17\n",
      "18\n",
      "19\n",
      "20\n",
      "21\n",
      "22\n",
      "23\n",
      "24\n",
      "25\n",
      "26\n",
      "27\n",
      "28\n",
      "29\n",
      "30\n",
      "31\n",
      "32\n",
      "33\n",
      "34\n",
      "35\n",
      "36\n",
      "37\n",
      "38\n",
      "39\n",
      "40\n",
      "41\n",
      "42\n",
      "43\n",
      "44\n",
      "45\n",
      "46\n",
      "47\n",
      "48\n",
      "49\n",
      "50\n",
      "51\n",
      "52\n",
      "53\n",
      "54\n",
      "55\n",
      "56\n",
      "57\n",
      "58\n",
      "59\n",
      "60\n",
      "61\n",
      "62\n",
      "63\n",
      "64\n",
      "65\n",
      "66\n",
      "67\n",
      "68\n",
      "69\n",
      "70\n",
      "71\n",
      "72\n",
      "73\n",
      "74\n",
      "75\n",
      "76\n",
      "77\n",
      "78\n",
      "79\n",
      "80\n",
      "81\n",
      "82\n",
      "83\n",
      "84\n",
      "85\n",
      "86\n",
      "87\n",
      "88\n",
      "89\n",
      "90\n",
      "91\n",
      "92\n",
      "93\n",
      "94\n",
      "95\n",
      "96\n",
      "97\n",
      "98\n",
      "99\n",
      "100\n",
      "101\n",
      "102\n",
      "103\n",
      "104\n",
      "105\n",
      "106\n",
      "107\n",
      "108\n",
      "109\n",
      "110\n",
      "111\n",
      "112\n",
      "113\n",
      "114\n",
      "115\n",
      "116\n",
      "117\n",
      "118\n",
      "119\n",
      "120\n",
      "121\n",
      "122\n",
      "123\n",
      "124\n",
      "125\n",
      "126\n",
      "127\n",
      "128\n",
      "129\n",
      "130\n",
      "131\n",
      "132\n",
      "133\n",
      "134\n",
      "135\n",
      "136\n",
      "137\n",
      "138\n",
      "139\n",
      "140\n",
      "141\n",
      "142\n",
      "143\n",
      "144\n",
      "145\n",
      "146\n",
      "147\n",
      "148\n",
      "149\n",
      "150\n",
      "151\n",
      "152\n",
      "153\n",
      "154\n",
      "155\n",
      "156\n",
      "157\n",
      "158\n",
      "159\n",
      "160\n",
      "161\n",
      "162\n",
      "163\n",
      "164\n",
      "165\n",
      "166\n",
      "167\n",
      "168\n",
      "169\n",
      "170\n",
      "171\n",
      "172\n",
      "173\n",
      "174\n",
      "175\n",
      "176\n"
     ]
    }
   ],
   "source": [
    "for i, (inputs, targets) in enumerate(train_dataloader):\n",
    "    print(i)"
   ]
  },
  {
   "cell_type": "code",
   "execution_count": 15,
   "id": "51e37ee0-ccc5-4d55-b7d3-0e3656998886",
   "metadata": {},
   "outputs": [],
   "source": [
    "n,m = next(iter(train_dataloader))"
   ]
  },
  {
   "cell_type": "code",
   "execution_count": 16,
   "id": "a45e7cac-53ef-4d2f-a0e0-9290f3a99b6e",
   "metadata": {},
   "outputs": [
    {
     "data": {
      "text/plain": [
       "(torch.Size([32, 1, 96, 96]), torch.Size([32, 30]))"
      ]
     },
     "execution_count": 16,
     "metadata": {},
     "output_type": "execute_result"
    }
   ],
   "source": [
    "n.shape, m.shape"
   ]
  },
  {
   "cell_type": "code",
   "execution_count": 17,
   "id": "e65d1beb-28b2-4fc3-8734-8330d0bdd1d0",
   "metadata": {},
   "outputs": [
    {
     "name": "stdout",
     "output_type": "stream",
     "text": [
      "torch.Size([32, 1, 96, 96]) torch.Size([32, 30])\n"
     ]
    }
   ],
   "source": [
    "for i in range (10):\n",
    "    n,m = next(iter(train_dataloader))\n",
    "    print(n.shape, m.shape)\n",
    "    break"
   ]
  },
  {
   "cell_type": "code",
   "execution_count": 18,
   "id": "dfc41838-e557-4589-bf8a-585a37f580ea",
   "metadata": {},
   "outputs": [
    {
     "name": "stdout",
     "output_type": "stream",
     "text": [
      "batch input:  torch.Size([32, 1, 96, 96])\n",
      "batch idx:  0\n",
      "batch label:  torch.Size([32, 30])\n"
     ]
    }
   ],
   "source": [
    "for idx,batch in enumerate(train_dataloader):\n",
    "        print(\"batch input: \", batch[0].size())\n",
    "        print(\"batch idx: \",  idx)\n",
    "        print(\"batch label: \" , batch[1].shape)\n",
    "        curr_batch = idx\n",
    "        break\n",
    "        "
   ]
  },
  {
   "cell_type": "code",
   "execution_count": 19,
   "id": "02181cba-151c-42f4-bbca-b1eb73c7a4c6",
   "metadata": {},
   "outputs": [
    {
     "data": {
      "text/plain": [
       "177"
      ]
     },
     "execution_count": 19,
     "metadata": {},
     "output_type": "execute_result"
    }
   ],
   "source": [
    "len(train_dataloader)"
   ]
  },
  {
   "cell_type": "code",
   "execution_count": 20,
   "id": "0092c1ad-671c-4fa5-9cf7-14da7d35bb4f",
   "metadata": {},
   "outputs": [],
   "source": [
    "batches = [next(iter(train_dataloader)) for _ in range(len(train_dataloader))]\n"
   ]
  },
  {
   "cell_type": "code",
   "execution_count": 21,
   "id": "61def688-34c9-49d6-87d0-54551e162341",
   "metadata": {},
   "outputs": [
    {
     "name": "stdout",
     "output_type": "stream",
     "text": [
      "0\n",
      "1\n",
      "2\n",
      "0\n",
      "1\n"
     ]
    }
   ],
   "source": [
    "len(batches)\n",
    "\n",
    "for i in range(5):\n",
    "    print(i % 3)\n",
    "\n"
   ]
  },
  {
   "cell_type": "code",
   "execution_count": null,
   "id": "0c609101-eda8-42e5-97f0-2f0ed63130c1",
   "metadata": {},
   "outputs": [],
   "source": []
  },
  {
   "cell_type": "code",
   "execution_count": null,
   "id": "846c3b6b-5d36-4038-9a68-1708ef18a51a",
   "metadata": {},
   "outputs": [],
   "source": []
  },
  {
   "cell_type": "code",
   "execution_count": null,
   "id": "4196fa6a",
   "metadata": {},
   "outputs": [],
   "source": [
    "import matplotlib.pyplot as plt\n",
    "\n",
    "def find_lr(model, train_loader, criterion, optimizer, init_lr=1e-8, final_lr=10, num_iters=100):\n",
    "    \"\"\"\n",
    "    Finds the optimal learning rate for the model by gradually increasing the learning rate and plotting the loss.\n",
    "    Args:\n",
    "    - model (torch.nn.Module): the PyTorch model to train\n",
    "    - train_loader (torch.utils.data.DataLoader): the training data loader\n",
    "    - criterion (torch.nn.Module): the loss function\n",
    "    - optimizer (torch.optim.Optimizer): the optimizer\n",
    "    - init_lr (float): the initial learning rate\n",
    "    - final_lr (float): the final learning rate\n",
    "    - num_iters (int): the number of iterations to run\n",
    "    \"\"\"\n",
    "    model.train()\n",
    "    optimizer.param_groups[0]['lr'] = init_lr\n",
    "    \n",
    "    init, final = math.log(init_lr, 10), math.log(final_lr, 10)\n",
    "\n",
    "    \n",
    "    lr_steps = np.logspace(init, final, num=num_iters+1)\n",
    "    lr = init_lr\n",
    "    losses = []\n",
    "    lrs = []\n",
    "        \n",
    "    for i, (inputs, targets) in enumerate(train_loader):\n",
    "        if i >= num_iters:\n",
    "            break\n",
    "        \n",
    "        optimizer.param_groups[0]['lr'] = lr\n",
    "        inputs, targets = inputs.cuda(), targets.cuda()\n",
    "        outputs = model(inputs)\n",
    "        loss = criterion(outputs, targets)\n",
    "        optimizer.zero_grad()\n",
    "        loss.backward()\n",
    "        optimizer.step()\n",
    "        \n",
    "        losses.append(loss.item())\n",
    "        lrs.append(lr)\n",
    "        lr = lr_steps[i]\n",
    "    \n",
    "    # plot the learning rate vs. loss\n",
    "    plt.plot(lrs, losses)\n",
    "    plt.xscale('log')\n",
    "    plt.xlabel('Learning Rate')\n",
    "    plt.ylabel('Loss')\n",
    "    # plt.scatter(losses, lrs)\n",
    "    plt.show()\n",
    "    return losses, lrs\n"
   ]
  },
  {
   "cell_type": "code",
   "execution_count": 23,
   "id": "b5ffbed2-6d5d-4aca-a26b-c9da7b08e6db",
   "metadata": {},
   "outputs": [
    {
     "data": {
      "image/png": "[encoded data removed]",
      "text/plain": [
       "<Figure size 432x288 with 1 Axes>"
      ]
     },
     "metadata": {
      "needs_background": "light"
     },
     "output_type": "display_data"
    }
   ],
   "source": [
    "losses, lrs, lrs_dx = find_lr(cnn, train_dataloader, loss_fn, optimizer)"
   ]
  },
  {
   "cell_type": "code",
   "execution_count": 24,
   "id": "2fbddb38-a9e7-4615-beb3-dab27edeb0a0",
   "metadata": {},
   "outputs": [],
   "source": [
    "max = np.argmin(lrs_dx)"
   ]
  },
  {
   "cell_type": "code",
   "execution_count": 25,
   "id": "29c2ad88-6623-495c-81f3-49c2eed843bd",
   "metadata": {},
   "outputs": [
    {
     "data": {
      "text/plain": [
       "1.6595869074375596e-06"
      ]
     },
     "execution_count": 25,
     "metadata": {},
     "output_type": "execute_result"
    }
   ],
   "source": [
    "lrs[max]"
   ]
  },
  {
   "cell_type": "code",
   "execution_count": 26,
   "id": "53321f87-9a9a-4957-bd6f-6395946ae51b",
   "metadata": {},
   "outputs": [
    {
     "data": {
      "text/plain": [
       "[0.004379332065582275,\n",
       " -0.002451390027999878,\n",
       " 0.0033982396125793457,\n",
       " -0.0016366243362426758,\n",
       " -0.005655854940414429,\n",
       " 0.004493653774261475,\n",
       " 0.0025687217712402344,\n",
       " -0.0022052228450775146,\n",
       " -0.0007606446743011475,\n",
       " 0.002788335084915161,\n",
       " -0.00011768937110900879,\n",
       " -0.00017365813255310059,\n",
       " 0.0008003413677215576,\n",
       " -0.00542333722114563,\n",
       " 0.0015700459480285645,\n",
       " 0.0006082355976104736,\n",
       " -0.00503087043762207,\n",
       " 0.008612185716629028,\n",
       " -0.0013523101806640625,\n",
       " -0.0023692846298217773,\n",
       " -1.049041748046875e-05,\n",
       " 0.005403578281402588,\n",
       " -0.0036343932151794434,\n",
       " 0.00178566575050354,\n",
       " -0.0037500858306884766,\n",
       " 0.0010600388050079346,\n",
       " -0.0011943578720092773,\n",
       " 0.0037350058555603027,\n",
       " -0.002539396286010742,\n",
       " 0.00030535459518432617,\n",
       " 0.0006153285503387451,\n",
       " -0.0015740692615509033,\n",
       " 0.0028687715530395508,\n",
       " 0.000340878963470459,\n",
       " -0.0014802813529968262,\n",
       " 0.001528710126876831,\n",
       " -0.0037496984004974365,\n",
       " 0.0033029019832611084,\n",
       " -0.007449537515640259,\n",
       " 0.008588790893554688,\n",
       " -0.006494402885437012,\n",
       " 0.006167173385620117,\n",
       " -0.005439192056655884,\n",
       " 0.000645071268081665,\n",
       " -0.0004564523696899414,\n",
       " 0.001064002513885498,\n",
       " -0.000802159309387207,\n",
       " 0.0025191009044647217,\n",
       " 0.000351637601852417,\n",
       " -0.002695143222808838,\n",
       " 0.0012343227863311768,\n",
       " -0.0022113919258117676,\n",
       " 0.0010083317756652832,\n",
       " 0.0009545385837554932,\n",
       " -0.0018872618675231934,\n",
       " 0.00411185622215271,\n",
       " 0.0001836717128753662,\n",
       " -0.00016185641288757324,\n",
       " -0.0023920834064483643,\n",
       " 0.0031255781650543213,\n",
       " -0.0033192038536071777,\n",
       " -0.002599865198135376,\n",
       " 0.0035321414470672607,\n",
       " 0.002522885799407959,\n",
       " -0.0021545588970184326,\n",
       " 0.004432022571563721,\n",
       " -0.006551831960678101,\n",
       " 0.0004895925521850586,\n",
       " 0.003961443901062012,\n",
       " -0.004373490810394287,\n",
       " -0.00023728609085083008,\n",
       " -0.0005116164684295654,\n",
       " -0.0003172457218170166,\n",
       " -0.002101212739944458,\n",
       " 0.0016372203826904297,\n",
       " -0.0005178153514862061,\n",
       " -0.0006857216358184814,\n",
       " 0.002589493989944458,\n",
       " -0.005602210760116577,\n",
       " 0.0018100738525390625,\n",
       " -0.0025084614753723145,\n",
       " -0.0010553300380706787,\n",
       " 0.0004214048385620117,\n",
       " -0.003595322370529175,\n",
       " 0.0028890371322631836,\n",
       " -0.006016045808792114,\n",
       " 0.0034373104572296143,\n",
       " -0.0019327104091644287,\n",
       " -0.0008323192596435547,\n",
       " -0.006072580814361572,\n",
       " -0.0022594332695007324,\n",
       " -0.0018579363822937012,\n",
       " -0.005730926990509033,\n",
       " -0.0010121166706085205,\n",
       " -0.0046749114990234375,\n",
       " -0.004090428352355957,\n",
       " -0.006163209676742554,\n",
       " -0.004266709089279175,\n",
       " -0.006164610385894775]"
      ]
     },
     "execution_count": 26,
     "metadata": {},
     "output_type": "execute_result"
    }
   ],
   "source": [
    "lrs_dx"
   ]
  },
  {
   "cell_type": "code",
   "execution_count": 27,
   "id": "cc427f11-930f-4710-9bd1-c859e94ee0a9",
   "metadata": {},
   "outputs": [],
   "source": [
    "#  to find steepest point: calculate the derivative, find the min/max)"
   ]
  },
  {
   "cell_type": "code",
   "execution_count": null,
   "id": "e7e388ee-9f20-49ed-8540-71f03144f240",
   "metadata": {},
   "outputs": [],
   "source": []
  },
  {
   "cell_type": "code",
   "execution_count": null,
   "id": "abf0091d-ccb7-44e4-8a12-20e271a02390",
   "metadata": {},
   "outputs": [],
   "source": []
  },
  {
   "cell_type": "code",
   "execution_count": 28,
   "id": "77e29cc1-0e0b-429c-9e36-39a2a0d20694",
   "metadata": {},
   "outputs": [],
   "source": [
    "preds = cnn(X_batch)"
   ]
  },
  {
   "cell_type": "code",
   "execution_count": 29,
   "id": "cb2792f1-948c-4486-84b5-991143b6bb64",
   "metadata": {},
   "outputs": [
    {
     "data": {
      "text/plain": [
       "torch.Size([32, 30])"
      ]
     },
     "execution_count": 29,
     "metadata": {},
     "output_type": "execute_result"
    }
   ],
   "source": [
    "y_batch.shape"
   ]
  },
  {
   "cell_type": "code",
   "execution_count": 30,
   "id": "44ffb220-7fc5-40cb-a852-9129cf552503",
   "metadata": {},
   "outputs": [
    {
     "data": {
      "text/plain": [
       "tensor(0.2441, device='cuda:0', grad_fn=<MseLossBackward0>)"
      ]
     },
     "execution_count": 30,
     "metadata": {},
     "output_type": "execute_result"
    }
   ],
   "source": [
    "loss_fn(preds, y_batch)"
   ]
  },
  {
   "cell_type": "code",
   "execution_count": null,
   "id": "a6df5c82-ddd7-4bfa-a3e9-7a8d54cf9bfa",
   "metadata": {},
   "outputs": [],
   "source": []
  },
  {
   "cell_type": "code",
   "execution_count": null,
   "id": "44a89d1e-1476-4df9-91ba-2735db5ffdb8",
   "metadata": {},
   "outputs": [],
   "source": []
  },
  {
   "cell_type": "markdown",
   "id": "d2fe41a7-d0d4-46ed-8c42-e708b8bd2715",
   "metadata": {},
   "source": [
    "# Gradient Accumilation"
   ]
  },
  {
   "cell_type": "markdown",
   "id": "47baff33-70f7-4dab-bef8-06d7048ccf92",
   "metadata": {},
   "source": [
    "## The same training loop but with gradient accumilation added\n",
    "## __NOTE__: Only run one option\n",
    "Why: some GPU's may run out of memory, but changing batch size will require varying learning rate and confuse things"
   ]
  },
  {
   "cell_type": "code",
   "execution_count": 31,
   "id": "3fbd269d",
   "metadata": {},
   "outputs": [
    {
     "name": "stdout",
     "output_type": "stream",
     "text": [
      "Epoch: 0 | Loss: 0.00388 | Test Loss: 0.00178\n",
      "Epoch: 10 | Loss: 0.00066 | Test Loss: 0.00015\n",
      "Epoch: 20 | Loss: 0.00114 | Test Loss: 0.00049\n",
      "Epoch: 30 | Loss: 0.00102 | Test Loss: 0.00049\n"
     ]
    }
   ],
   "source": [
    "# X_blob_train, y_blob_train = train_X, train_Y\n",
    "# X_blob_test, y_blob_test = val_X, val_Y\n",
    "\n",
    "for epoch in range(EPOCHS):\n",
    "    ### Training mode \n",
    "    cnn.train()\n",
    "\n",
    "    \n",
    "    # Set the number of batches to accumulate gradients over\n",
    "    accumulation_steps = 4\n",
    "\n",
    "    # Initialize a counter to keep track of the number of accumulated batches\n",
    "    accumulation_counter = 0\n",
    "\n",
    "    # Create an empty tensor to accumulate gradients over the accumulation steps\n",
    "    grad_acc = {k: torch.zeros_like(v) for k, v in cnn.named_parameters()}\n",
    "\n",
    "    for X_batch, y_batch in train_dataloader:\n",
    "\n",
    "        # 1. Forward pass (model outputs raw logits)\n",
    "        y_logits = cnn(X_batch)\n",
    "\n",
    "        # 2. Calculate loss/accuracy\n",
    "        loss = loss_fn(y_logits, y_batch)\n",
    "\n",
    "        # 3. Loss backwards\n",
    "        loss.backward()\n",
    "\n",
    "        # 4. Accumulate gradients over the accumulation steps\n",
    "        accumulation_counter += 1\n",
    "        if accumulation_counter == accumulation_steps:\n",
    "            for param_name, param in cnn.named_parameters():\n",
    "                grad_acc[param_name] += param.grad / accumulation_steps\n",
    "            accumulation_counter = 0\n",
    "\n",
    "        # 5. Optimizer step (only update weights after accumulating gradients over accumulation_steps)\n",
    "        if accumulation_counter == 0:\n",
    "            for param_name, param in cnn.named_parameters():\n",
    "                param.grad = grad_acc[param_name]\n",
    "            optimizer.step()\n",
    "            optimizer.zero_grad()\n",
    "\n",
    "    # Check if there are any remaining accumulated gradients to update\n",
    "    if accumulation_counter != 0:\n",
    "        for param_name, param in cnn.named_parameters():\n",
    "            param.grad = grad_acc[param_name]\n",
    "        optimizer.step()\n",
    "        optimizer.zero_grad()\n",
    "\n",
    "    \n",
    "    \n",
    "    cnn.eval()\n",
    "    with torch.inference_mode():\n",
    "        for X_batch, y_batch in test_dataloader:\n",
    "            test_logits = cnn(X_batch)\n",
    "            test_loss = loss_fn(test_logits, y_batch)\n",
    "            \n",
    "            \n",
    "    # Print out what's happening\n",
    "    if epoch % 10 == 0:\n",
    "        print(f\"Epoch: {epoch} | Loss: {loss:.5f} | Test Loss: {test_loss:.5f}\")"
   ]
  },
  {
   "cell_type": "code",
   "execution_count": null,
   "id": "2cd3d2ab-1b14-4275-a38a-5eee9cc2d9ed",
   "metadata": {},
   "outputs": [],
   "source": []
  },
  {
   "cell_type": "markdown",
   "id": "5b1a3b0b-760e-4592-a70a-8310c2393feb",
   "metadata": {},
   "source": [
    "## Predictions\n"
   ]
  },
  {
   "cell_type": "code",
   "execution_count": 32,
   "id": "70099a6d-5d42-4676-8057-ddc661cf171a",
   "metadata": {},
   "outputs": [
    {
     "ename": "RuntimeError",
     "evalue": "CUDA out of memory. Tried to allocate 3.10 GiB (GPU 0; 7.80 GiB total capacity; 3.93 GiB already allocated; 2.76 GiB free; 4.00 GiB reserved in total by PyTorch) If reserved memory is >> allocated memory try setting max_split_size_mb to avoid fragmentation.  See documentation for Memory Management and PYTORCH_CUDA_ALLOC_CONF",
     "output_type": "error",
     "traceback": [
      "\u001b[0;31m---------------------------------------------------------------------------\u001b[0m",
      "\u001b[0;31mRuntimeError\u001b[0m                              Traceback (most recent call last)",
      "Input \u001b[0;32mIn [32]\u001b[0m, in \u001b[0;36m<cell line: 1>\u001b[0;34m()\u001b[0m\n\u001b[0;32m----> 1\u001b[0m preds \u001b[38;5;241m=\u001b[39m \u001b[43mcnn\u001b[49m\u001b[43m(\u001b[49m\u001b[43mval_X\u001b[49m\u001b[38;5;241;43m.\u001b[39;49m\u001b[43mto\u001b[49m\u001b[43m(\u001b[49m\u001b[43mdevice\u001b[49m\u001b[43m)\u001b[49m\u001b[43m)\u001b[49m\n",
      "File \u001b[0;32m/usr/local/lib/python3.9/dist-packages/torch/nn/modules/module.py:1130\u001b[0m, in \u001b[0;36mModule._call_impl\u001b[0;34m(self, *input, **kwargs)\u001b[0m\n\u001b[1;32m   1126\u001b[0m \u001b[38;5;66;03m# If we don't have any hooks, we want to skip the rest of the logic in\u001b[39;00m\n\u001b[1;32m   1127\u001b[0m \u001b[38;5;66;03m# this function, and just call forward.\u001b[39;00m\n\u001b[1;32m   1128\u001b[0m \u001b[38;5;28;01mif\u001b[39;00m \u001b[38;5;129;01mnot\u001b[39;00m (\u001b[38;5;28mself\u001b[39m\u001b[38;5;241m.\u001b[39m_backward_hooks \u001b[38;5;129;01mor\u001b[39;00m \u001b[38;5;28mself\u001b[39m\u001b[38;5;241m.\u001b[39m_forward_hooks \u001b[38;5;129;01mor\u001b[39;00m \u001b[38;5;28mself\u001b[39m\u001b[38;5;241m.\u001b[39m_forward_pre_hooks \u001b[38;5;129;01mor\u001b[39;00m _global_backward_hooks\n\u001b[1;32m   1129\u001b[0m         \u001b[38;5;129;01mor\u001b[39;00m _global_forward_hooks \u001b[38;5;129;01mor\u001b[39;00m _global_forward_pre_hooks):\n\u001b[0;32m-> 1130\u001b[0m     \u001b[38;5;28;01mreturn\u001b[39;00m \u001b[43mforward_call\u001b[49m\u001b[43m(\u001b[49m\u001b[38;5;241;43m*\u001b[39;49m\u001b[38;5;28;43minput\u001b[39;49m\u001b[43m,\u001b[49m\u001b[43m \u001b[49m\u001b[38;5;241;43m*\u001b[39;49m\u001b[38;5;241;43m*\u001b[39;49m\u001b[43mkwargs\u001b[49m\u001b[43m)\u001b[49m\n\u001b[1;32m   1131\u001b[0m \u001b[38;5;66;03m# Do not call functions when jit is used\u001b[39;00m\n\u001b[1;32m   1132\u001b[0m full_backward_hooks, non_full_backward_hooks \u001b[38;5;241m=\u001b[39m [], []\n",
      "Input \u001b[0;32mIn [4]\u001b[0m, in \u001b[0;36mCNN.forward\u001b[0;34m(self, x)\u001b[0m\n\u001b[1;32m      9\u001b[0m \u001b[38;5;28;01mdef\u001b[39;00m \u001b[38;5;21mforward\u001b[39m(\u001b[38;5;28mself\u001b[39m, x):\n\u001b[0;32m---> 10\u001b[0m     x \u001b[38;5;241m=\u001b[39m \u001b[43mF\u001b[49m\u001b[38;5;241;43m.\u001b[39;49m\u001b[43mrelu\u001b[49m\u001b[43m(\u001b[49m\u001b[38;5;28;43mself\u001b[39;49m\u001b[38;5;241;43m.\u001b[39;49m\u001b[43mconv1\u001b[49m\u001b[43m(\u001b[49m\u001b[43mx\u001b[49m\u001b[43m)\u001b[49m\u001b[43m)\u001b[49m\n\u001b[1;32m     11\u001b[0m     x \u001b[38;5;241m=\u001b[39m F\u001b[38;5;241m.\u001b[39mmax_pool2d(x, kernel_size\u001b[38;5;241m=\u001b[39m\u001b[38;5;241m2\u001b[39m, stride\u001b[38;5;241m=\u001b[39m\u001b[38;5;241m2\u001b[39m)\n\u001b[1;32m     12\u001b[0m     x \u001b[38;5;241m=\u001b[39m F\u001b[38;5;241m.\u001b[39mrelu(\u001b[38;5;28mself\u001b[39m\u001b[38;5;241m.\u001b[39mconv2(x))\n",
      "File \u001b[0;32m/usr/local/lib/python3.9/dist-packages/torch/nn/functional.py:1457\u001b[0m, in \u001b[0;36mrelu\u001b[0;34m(input, inplace)\u001b[0m\n\u001b[1;32m   1455\u001b[0m     result \u001b[38;5;241m=\u001b[39m torch\u001b[38;5;241m.\u001b[39mrelu_(\u001b[38;5;28minput\u001b[39m)\n\u001b[1;32m   1456\u001b[0m \u001b[38;5;28;01melse\u001b[39;00m:\n\u001b[0;32m-> 1457\u001b[0m     result \u001b[38;5;241m=\u001b[39m \u001b[43mtorch\u001b[49m\u001b[38;5;241;43m.\u001b[39;49m\u001b[43mrelu\u001b[49m\u001b[43m(\u001b[49m\u001b[38;5;28;43minput\u001b[39;49m\u001b[43m)\u001b[49m\n\u001b[1;32m   1458\u001b[0m \u001b[38;5;28;01mreturn\u001b[39;00m result\n",
      "\u001b[0;31mRuntimeError\u001b[0m: CUDA out of memory. Tried to allocate 3.10 GiB (GPU 0; 7.80 GiB total capacity; 3.93 GiB already allocated; 2.76 GiB free; 4.00 GiB reserved in total by PyTorch) If reserved memory is >> allocated memory try setting max_split_size_mb to avoid fragmentation.  See documentation for Memory Management and PYTORCH_CUDA_ALLOC_CONF"
     ]
    }
   ],
   "source": [
    "preds = cnn(val_X.to(device))"
   ]
  },
  {
   "cell_type": "code",
   "execution_count": null,
   "id": "5c616b45-55dd-4035-b2fa-426bb1b0aa22",
   "metadata": {},
   "outputs": [],
   "source": [
    "preds.shape"
   ]
  },
  {
   "cell_type": "code",
   "execution_count": null,
   "id": "6cd6c4d4-60fa-4678-a5ef-09a2eb23584c",
   "metadata": {},
   "outputs": [],
   "source": [
    "val_Y.shape"
   ]
  },
  {
   "cell_type": "code",
   "execution_count": null,
   "id": "bc89d438-f832-4f00-8976-727bfcf76b66",
   "metadata": {},
   "outputs": [],
   "source": [
    "loss_fn(preds, val_Y)"
   ]
  },
  {
   "cell_type": "code",
   "execution_count": null,
   "id": "cd608735-e679-40ae-a53c-0296178e217c",
   "metadata": {},
   "outputs": [],
   "source": [
    "val_X.shape, preds.shape, val_Y.shape"
   ]
  },
  {
   "cell_type": "code",
   "execution_count": null,
   "id": "3fa2aaa0-588f-4670-9325-8e910dd0b58c",
   "metadata": {},
   "outputs": [],
   "source": [
    "preds[0][1]"
   ]
  },
  {
   "cell_type": "code",
   "execution_count": null,
   "id": "0bba3416-86f1-45da-965d-de0db943b39e",
   "metadata": {},
   "outputs": [],
   "source": [
    "val_X[1].shape, val_X[1][0].shape"
   ]
  },
  {
   "cell_type": "code",
   "execution_count": null,
   "id": "81f99dcf-b808-481e-85e3-1a58f7a06f9e",
   "metadata": {},
   "outputs": [],
   "source": []
  },
  {
   "cell_type": "code",
   "execution_count": null,
   "id": "a49344a7-2b32-4a4b-9662-f816ad0bdf84",
   "metadata": {},
   "outputs": [],
   "source": [
    "def show_pred(X, preds, actual, index, point):\n",
    "    plt.imshow(X[index][0],cmap='gray')\n",
    "\n",
    "    plt.scatter(96* preds[index][point],96* preds[index][point + 1] ,c='r', marker='s', s=60, alpha=.5)\n",
    "    plt.scatter(96*actual[index][point],96* actual[index][point+1],c='g', marker='s', s=60, alpha=.5)\n",
    "\n",
    "    plt.legend(['predicted','actual'])\n",
    "    \n"
   ]
  },
  {
   "cell_type": "code",
   "execution_count": null,
   "id": "431ff6cd-4040-4e18-b81a-cc8cdb6e0823",
   "metadata": {},
   "outputs": [],
   "source": [
    "show_pred(val_X.to(\"cpu\"), preds.to(\"cpu\").detach().numpy(), val_Y.to(\"cpu\").detach().numpy(), 0, 0)"
   ]
  },
  {
   "cell_type": "code",
   "execution_count": null,
   "id": "4ce8ca82-1da8-4bae-adf8-61e2898f87e8",
   "metadata": {},
   "outputs": [],
   "source": [
    "preds[0][0], preds[0][1]"
   ]
  },
  {
   "cell_type": "code",
   "execution_count": null,
   "id": "4f924af9-d7ea-4378-8faa-452d28affd5c",
   "metadata": {},
   "outputs": [],
   "source": [
    "val_Y[0][0], val_Y[0][1]"
   ]
  },
  {
   "cell_type": "code",
   "execution_count": null,
   "id": "9d8d8ab2-8430-4e89-a193-4fbfbb861075",
   "metadata": {},
   "outputs": [],
   "source": [
    "val_X[0][0]"
   ]
  },
  {
   "cell_type": "code",
   "execution_count": null,
   "id": "7432aac6-20be-4360-aa43-ac1c9e1f6dac",
   "metadata": {},
   "outputs": [],
   "source": []
  },
  {
   "cell_type": "code",
   "execution_count": null,
   "id": "37776afd-9615-45e4-a3c9-4a6fb0ed6778",
   "metadata": {},
   "outputs": [],
   "source": []
  },
  {
   "cell_type": "code",
   "execution_count": null,
   "id": "46dece4a-be6c-4a91-b616-982504036173",
   "metadata": {},
   "outputs": [],
   "source": []
  },
  {
   "cell_type": "code",
   "execution_count": null,
   "id": "4d872651-4468-4966-9b2a-c15581494473",
   "metadata": {},
   "outputs": [],
   "source": []
  },
  {
   "cell_type": "code",
   "execution_count": null,
   "id": "c3aee4dc-5e71-4f16-914c-3e5ffdcdd0c9",
   "metadata": {},
   "outputs": [],
   "source": []
  },
  {
   "cell_type": "code",
   "execution_count": null,
   "id": "a25a4df6-1c87-459a-816d-240a6a134920",
   "metadata": {},
   "outputs": [],
   "source": []
  },
  {
   "cell_type": "code",
   "execution_count": null,
   "id": "c58b4cb5-b95d-4024-8dd1-9568c9653604",
   "metadata": {},
   "outputs": [],
   "source": []
  },
  {
   "cell_type": "code",
   "execution_count": null,
   "id": "491509ee-7b38-4890-a585-3c104d51e1fa",
   "metadata": {},
   "outputs": [],
   "source": []
  },
  {
   "cell_type": "code",
   "execution_count": null,
   "id": "15d2aa0c-e4fa-4da3-9819-647c345ec922",
   "metadata": {},
   "outputs": [],
   "source": []
  },
  {
   "cell_type": "code",
   "execution_count": null,
   "id": "184b2c44-972b-422b-83ea-bdd78c620b6f",
   "metadata": {},
   "outputs": [],
   "source": []
  },
  {
   "cell_type": "code",
   "execution_count": null,
   "id": "a751707e-c698-4f54-b21c-445672de54ab",
   "metadata": {},
   "outputs": [],
   "source": []
  },
  {
   "cell_type": "code",
   "execution_count": null,
   "id": "00bec1a0-8501-40db-920a-0a145f77f875",
   "metadata": {},
   "outputs": [],
   "source": []
  },
  {
   "cell_type": "code",
   "execution_count": null,
   "id": "cf2bcc21-8840-4685-aaf6-b17d789cda10",
   "metadata": {},
   "outputs": [],
   "source": []
  },
  {
   "cell_type": "code",
   "execution_count": null,
   "id": "5263c757-030a-41f9-8d58-682a6dd65ee6",
   "metadata": {},
   "outputs": [],
   "source": []
  },
  {
   "cell_type": "code",
   "execution_count": null,
   "id": "815950f4-828a-4247-8f03-f12751337bd3",
   "metadata": {},
   "outputs": [],
   "source": []
  },
  {
   "cell_type": "code",
   "execution_count": null,
   "id": "f02bb1d3-d1f0-451e-843e-7d7e4673dc24",
   "metadata": {},
   "outputs": [],
   "source": []
  },
  {
   "cell_type": "code",
   "execution_count": null,
   "id": "2e1459a1-08b3-44ab-aa1a-951f5ab30cb7",
   "metadata": {},
   "outputs": [],
   "source": []
  },
  {
   "cell_type": "code",
   "execution_count": null,
   "id": "36161f2d-0ab6-4a3b-b770-f55a6d6c0cab",
   "metadata": {},
   "outputs": [],
   "source": []
  },
  {
   "cell_type": "code",
   "execution_count": null,
   "id": "601218ec-2e94-4b68-be52-2b464f336557",
   "metadata": {},
   "outputs": [],
   "source": []
  },
  {
   "cell_type": "code",
   "execution_count": null,
   "id": "59d7fc5d-43cc-4d2c-a7cc-b60d0aa7aacd",
   "metadata": {},
   "outputs": [],
   "source": []
  },
  {
   "cell_type": "code",
   "execution_count": null,
   "id": "8676b16a-7420-4f93-8287-60ff22ad3706",
   "metadata": {},
   "outputs": [],
   "source": []
  },
  {
   "cell_type": "code",
   "execution_count": null,
   "id": "40b1f495-5ae6-4505-a0de-0e366de370ba",
   "metadata": {},
   "outputs": [],
   "source": []
  },
  {
   "cell_type": "code",
   "execution_count": null,
   "id": "583eb203-3bcb-4408-8d9f-261845ea2591",
   "metadata": {},
   "outputs": [],
   "source": []
  }
 ],
 "metadata": {
  "kernelspec": {
   "display_name": "Python 3 (ipykernel)",
   "language": "python",
   "name": "python3"
  },
  "language_info": {
   "codemirror_mode": {
    "name": "ipython",
    "version": 3
   },
   "file_extension": ".py",
   "mimetype": "text/x-python",
   "name": "python",
   "nbconvert_exporter": "python",
   "pygments_lexer": "ipython3",
   "version": "3.9.13"
  }
 },
 "nbformat": 4,
 "nbformat_minor": 5
}
