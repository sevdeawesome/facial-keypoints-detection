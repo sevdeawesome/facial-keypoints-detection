{
 "cells": [
  {
   "cell_type": "code",
   "execution_count": 1,
   "id": "6cea7897-6033-4325-a80d-21351e42ee83",
   "metadata": {},
   "outputs": [
    {
     "data": {
      "text/plain": [
       "'cuda'"
      ]
     },
     "execution_count": 1,
     "metadata": {},
     "output_type": "execute_result"
    }
   ],
   "source": [
    "from utils.notebook_2_utils import * \n",
    "import utils.notebook_2_utils as utils\n",
    "\n",
    "training_df = pd.read_csv(\"data/training.csv\")#.iloc[:1000]\n",
    "lookup_df = pd.read_csv(\"data/IdLookupTable.csv\")\n",
    "training_df.fillna(method = 'ffill',inplace = True)\n",
    "\n",
    "import math\n",
    "\n",
    "\n",
    "device = \"cuda\" if torch.cuda.is_available() else \"cpu\"\n",
    "device"
   ]
  },
  {
   "cell_type": "code",
   "execution_count": 2,
   "id": "a3f050b1-6529-409a-9183-1845badd99e8",
   "metadata": {},
   "outputs": [],
   "source": [
    "train_X, train_Y, val_X, val_Y = create_train_test_sets_nchw(training_df, normalize=True)"
   ]
  },
  {
   "cell_type": "code",
   "execution_count": null,
   "id": "4f7629da-e48d-40d3-95eb-718337d2c576",
   "metadata": {},
   "outputs": [],
   "source": []
  },
  {
   "cell_type": "markdown",
   "id": "3e997724-0722-48c5-a13a-607178603462",
   "metadata": {},
   "source": [
    "## Very Simple CNN Model\n",
    "* Input shape:  64, 1, 96, 96 (nchw)\n",
    "* Output shape: 64, 30 (nc)\n"
   ]
  },
  {
   "cell_type": "code",
   "execution_count": 3,
   "id": "e7ebfb08-d143-42bc-ba71-5c1383f60e9b",
   "metadata": {},
   "outputs": [],
   "source": [
    "import torch\n",
    "import torch.nn as nn\n",
    "import torch.optim as optim\n",
    "# from sklearn.model_selection import train_test_split\n",
    "import torch.nn.functional as F"
   ]
  },
  {
   "cell_type": "markdown",
   "id": "087d371b-b988-4055-bdc4-86c844901904",
   "metadata": {},
   "source": [
    "### Model Definition"
   ]
  },
  {
   "cell_type": "code",
   "execution_count": 4,
   "id": "30eacd5f-388f-43e0-98ac-d47402292239",
   "metadata": {},
   "outputs": [],
   "source": [
    "class CNN(nn.Module):\n",
    "    def __init__(self, input_shape: int, hidden_dim: int, output_dim: int):\n",
    "        super(CNN, self).__init__()\n",
    "        self.conv1 = nn.Conv2d(in_channels=input_shape, out_channels=hidden_dim, kernel_size=3, stride=1, padding=1)\n",
    "        self.conv2 = nn.Conv2d(in_channels=hidden_dim, out_channels=hidden_dim, kernel_size=3, stride=1, padding=1)\n",
    "        self.fc1 = nn.Linear(hidden_dim * 24 * 24, hidden_dim) #this is multiplied by 7*7 because the image is 28*28 and we have 2 conv layers with stride 1 and padding 1\n",
    "        self.fc2 = nn.Linear(hidden_dim, output_dim)\n",
    "        \n",
    "    def forward(self, x):\n",
    "        x = F.relu(self.conv1(x))\n",
    "        x = F.max_pool2d(x, kernel_size=2, stride=2)\n",
    "        x = F.relu(self.conv2(x))\n",
    "        x = F.max_pool2d(x, kernel_size=2, stride=2)\n",
    "        x = x.reshape(x.shape[0], -1)\n",
    "        x = F.relu(self.fc1(x))\n",
    "        x = self.fc2(x)\n",
    "        return x"
   ]
  },
  {
   "cell_type": "code",
   "execution_count": null,
   "id": "492ce700-b41f-4c44-a5a7-b55916731ee4",
   "metadata": {},
   "outputs": [],
   "source": [
    "\n"
   ]
  },
  {
   "cell_type": "markdown",
   "id": "1ee7ff48-ed7a-4ad3-8340-1d518917bdd4",
   "metadata": {},
   "source": [
    "## Control Panel"
   ]
  },
  {
   "cell_type": "code",
   "execution_count": 5,
   "id": "bed53bd1-43f8-4d82-9d9b-c9284a7cf67e",
   "metadata": {},
   "outputs": [],
   "source": [
    "cnn = CNN(input_shape=1, hidden_dim=64, output_dim=30)\n",
    "\n",
    "EPOCHS = 40\n",
    "LEARNING_RATE = .02\n",
    "BATCH_SIZE = 32\n",
    "\n",
    "\n",
    "loss_fn = torch.nn.MSELoss()\n",
    "optimizer = torch.optim.SGD(cnn.parameters(), lr=LEARNING_RATE)\n",
    "\n",
    "\n",
    "\n"
   ]
  },
  {
   "cell_type": "markdown",
   "id": "339c9fa1-abd6-4b7b-be71-f5544efa3488",
   "metadata": {},
   "source": [
    "### DataLoaders"
   ]
  },
  {
   "cell_type": "code",
   "execution_count": 6,
   "id": "20a434de-1538-4f47-a713-062a6f1a4229",
   "metadata": {},
   "outputs": [],
   "source": [
    "torch.manual_seed(42)\n",
    "from torch.utils.data import TensorDataset, DataLoader\n",
    "\n",
    "\n",
    "# Put data to target device\n",
    "train_X, train_Y = train_X.to(device), train_Y.to(device)\n",
    "val_X, val_Y = val_X.to(device), val_Y.to(device)\n",
    "cnn = cnn.to(device)\n",
    "\n",
    "train_dataset = TensorDataset(train_X, train_Y)\n",
    "train_dataloader = DataLoader(train_dataset, batch_size=BATCH_SIZE, shuffle=True)\n",
    "\n",
    "test_dataset = TensorDataset(val_X, val_Y)\n",
    "test_dataloader = DataLoader(test_dataset, batch_size=BATCH_SIZE, shuffle=True)"
   ]
  },
  {
   "cell_type": "code",
   "execution_count": 7,
   "id": "4c638940-85af-4602-bf14-a032bf45ff8f",
   "metadata": {},
   "outputs": [
    {
     "name": "stdout",
     "output_type": "stream",
     "text": [
      "torch.Size([32, 1, 96, 96]) torch.Size([32, 30])\n"
     ]
    }
   ],
   "source": [
    "for X_batch, y_batch in train_dataloader:\n",
    "    print(X_batch.shape, y_batch.shape)\n",
    "    break"
   ]
  },
  {
   "cell_type": "code",
   "execution_count": 8,
   "id": "86da1397-2b7e-4777-b40b-e40dd6a5db7f",
   "metadata": {},
   "outputs": [
    {
     "name": "stdout",
     "output_type": "stream",
     "text": [
      "torch.Size([32, 1, 96, 96]) torch.Size([32, 30])\n"
     ]
    }
   ],
   "source": [
    "for X_batch, y_batch in test_dataloader:\n",
    "    print(X_batch.shape, y_batch.shape)\n",
    "    break"
   ]
  },
  {
   "cell_type": "code",
   "execution_count": 9,
   "id": "12ad2841-864e-486b-8311-fd2221b83b4d",
   "metadata": {},
   "outputs": [
    {
     "name": "stdout",
     "output_type": "stream",
     "text": [
      "batch input:  torch.Size([32, 1, 96, 96])\n",
      "batch idx:  0\n",
      "batch label:  torch.Size([32, 30])\n",
      "---------- test dataloader -------\n",
      "0 torch.Size([32, 1, 96, 96])\n",
      "0 torch.Size([32, 30])\n"
     ]
    }
   ],
   "source": [
    "for idx,batch in enumerate(train_dataloader):\n",
    "    print(\"batch input: \", batch[0].size())\n",
    "    print(\"batch idx: \",  idx)\n",
    "    print(\"batch label: \" , batch[1].shape)\n",
    "    break\n",
    "\n",
    "print(\"---------- test dataloader -------\")\n",
    "for idx, (data,target) in enumerate(test_dataloader):\n",
    "    print(idx, data.shape)\n",
    "    print(idx, target.shape)\n",
    "    break"
   ]
  },
  {
   "cell_type": "code",
   "execution_count": null,
   "id": "a15978b1-0307-45ff-8296-6a29bc257be6",
   "metadata": {},
   "outputs": [],
   "source": [
    "\n"
   ]
  },
  {
   "cell_type": "markdown",
   "id": "41d7e2dc-621f-4849-9598-ef30992060e3",
   "metadata": {},
   "source": [
    "## Learning Rate finder\n",
    "* use exponentially increasing learning rate, starting at init."
   ]
  },
  {
   "cell_type": "code",
   "execution_count": 10,
   "id": "b86b4df8-53f1-4e33-85b9-1368b7fad442",
   "metadata": {},
   "outputs": [],
   "source": [
    "final_lr = 10\n",
    "init_lr = 1e-10\n",
    "num_iters = 100"
   ]
  },
  {
   "cell_type": "code",
   "execution_count": 11,
   "id": "0cd8774e-c3a6-4ae2-8ff2-39a83e0df893",
   "metadata": {},
   "outputs": [
    {
     "data": {
      "text/plain": [
       "(-10.0, 1.0)"
      ]
     },
     "execution_count": 11,
     "metadata": {},
     "output_type": "execute_result"
    }
   ],
   "source": [
    "init, final = math.log(init_lr, 10), math.log(final_lr, 10)\n",
    "init,final"
   ]
  },
  {
   "cell_type": "code",
   "execution_count": 12,
   "id": "6215baf3-ea03-4d63-ac5b-05558779519f",
   "metadata": {},
   "outputs": [
    {
     "data": {
      "text/plain": [
       "(array([1.00000000e-10, 1.29154967e-10, 1.66810054e-10, 2.15443469e-10,\n",
       "        2.78255940e-10]),\n",
       " array([ 3.59381366,  4.64158883,  5.9948425 ,  7.74263683, 10.        ]))"
      ]
     },
     "execution_count": 12,
     "metadata": {},
     "output_type": "execute_result"
    }
   ],
   "source": [
    "x = np.logspace(init, final, num=100)\n",
    "x[:5],x[95:]"
   ]
  },
  {
   "cell_type": "code",
   "execution_count": null,
   "id": "5d850ecd-08ec-4c79-870c-e2b3e6306e5a",
   "metadata": {},
   "outputs": [],
   "source": []
  },
  {
   "cell_type": "code",
   "execution_count": null,
   "id": "17e3e67c-ac88-43e7-a026-15a1249479b9",
   "metadata": {},
   "outputs": [],
   "source": []
  },
  {
   "cell_type": "code",
   "execution_count": null,
   "id": "76301d35-0682-4d77-8be1-5591013a1dd6",
   "metadata": {},
   "outputs": [],
   "source": []
  },
  {
   "cell_type": "code",
   "execution_count": 13,
   "id": "2685dbd4-b6f4-45a1-8e2c-0fcb082fdab6",
   "metadata": {},
   "outputs": [
    {
     "name": "stdout",
     "output_type": "stream",
     "text": [
      "torch.Size([32, 1, 96, 96]) torch.Size([32, 30])\n"
     ]
    }
   ],
   "source": [
    "for idx, batch in train_dataloader:\n",
    "    print(idx.shape, batch.shape)\n",
    "    break"
   ]
  },
  {
   "cell_type": "code",
   "execution_count": 14,
   "id": "25b066e9-f62f-407f-9889-3c58544b025b",
   "metadata": {},
   "outputs": [
    {
     "name": "stdout",
     "output_type": "stream",
     "text": [
      "0\n"
     ]
    }
   ],
   "source": [
    "for i, (inputs, targets) in enumerate(train_dataloader):\n",
    "    print(i)\n",
    "    break"
   ]
  },
  {
   "cell_type": "code",
   "execution_count": 15,
   "id": "51e37ee0-ccc5-4d55-b7d3-0e3656998886",
   "metadata": {},
   "outputs": [],
   "source": [
    "n,m = next(iter(train_dataloader))"
   ]
  },
  {
   "cell_type": "code",
   "execution_count": 16,
   "id": "a45e7cac-53ef-4d2f-a0e0-9290f3a99b6e",
   "metadata": {},
   "outputs": [
    {
     "data": {
      "text/plain": [
       "(torch.Size([32, 1, 96, 96]), torch.Size([32, 30]))"
      ]
     },
     "execution_count": 16,
     "metadata": {},
     "output_type": "execute_result"
    }
   ],
   "source": [
    "n.shape, m.shape"
   ]
  },
  {
   "cell_type": "code",
   "execution_count": 17,
   "id": "e65d1beb-28b2-4fc3-8734-8330d0bdd1d0",
   "metadata": {},
   "outputs": [
    {
     "name": "stdout",
     "output_type": "stream",
     "text": [
      "torch.Size([32, 1, 96, 96]) torch.Size([32, 30])\n"
     ]
    }
   ],
   "source": [
    "for i in range (10):\n",
    "    n,m = next(iter(train_dataloader))\n",
    "    print(n.shape, m.shape)\n",
    "    break"
   ]
  },
  {
   "cell_type": "code",
   "execution_count": 18,
   "id": "dfc41838-e557-4589-bf8a-585a37f580ea",
   "metadata": {},
   "outputs": [
    {
     "name": "stdout",
     "output_type": "stream",
     "text": [
      "batch input:  torch.Size([32, 1, 96, 96])\n",
      "batch idx:  0\n",
      "batch label:  torch.Size([32, 30])\n"
     ]
    }
   ],
   "source": [
    "for idx,batch in enumerate(train_dataloader):\n",
    "        print(\"batch input: \", batch[0].size())\n",
    "        print(\"batch idx: \",  idx)\n",
    "        print(\"batch label: \" , batch[1].shape)\n",
    "        curr_batch = idx\n",
    "        break\n",
    "        "
   ]
  },
  {
   "cell_type": "code",
   "execution_count": 19,
   "id": "02181cba-151c-42f4-bbca-b1eb73c7a4c6",
   "metadata": {},
   "outputs": [
    {
     "data": {
      "text/plain": [
       "177"
      ]
     },
     "execution_count": 19,
     "metadata": {},
     "output_type": "execute_result"
    }
   ],
   "source": [
    "len(train_dataloader)"
   ]
  },
  {
   "cell_type": "code",
   "execution_count": 20,
   "id": "0092c1ad-671c-4fa5-9cf7-14da7d35bb4f",
   "metadata": {},
   "outputs": [],
   "source": [
    "batches = [next(iter(train_dataloader)) for _ in range(len(train_dataloader))]\n"
   ]
  },
  {
   "cell_type": "code",
   "execution_count": 21,
   "id": "61def688-34c9-49d6-87d0-54551e162341",
   "metadata": {},
   "outputs": [
    {
     "name": "stdout",
     "output_type": "stream",
     "text": [
      "0\n",
      "1\n",
      "2\n",
      "0\n",
      "1\n"
     ]
    }
   ],
   "source": [
    "len(batches)\n",
    "\n",
    "for i in range(5):\n",
    "    print(i % 3)\n",
    "\n"
   ]
  },
  {
   "cell_type": "code",
   "execution_count": null,
   "id": "0c609101-eda8-42e5-97f0-2f0ed63130c1",
   "metadata": {},
   "outputs": [],
   "source": []
  },
  {
   "cell_type": "code",
   "execution_count": null,
   "id": "846c3b6b-5d36-4038-9a68-1708ef18a51a",
   "metadata": {},
   "outputs": [],
   "source": []
  },
  {
   "cell_type": "code",
   "execution_count": 22,
   "id": "8d45ec3f",
   "metadata": {},
   "outputs": [],
   "source": [
    "import matplotlib.pyplot as plt\n",
    "\n",
    "def find_lr(model, train_loader, criterion, optimizer, init_lr=1e-8, final_lr=10, num_iters=100):\n",
    "    \"\"\"\n",
    "    Finds the optimal learning rate for the model by gradually increasing the learning rate and plotting the loss.\n",
    "    Args:\n",
    "    - model (torch.nn.Module): the PyTorch model to train\n",
    "    - train_loader (torch.utils.data.DataLoader): the training data loader\n",
    "    - criterion (torch.nn.Module): the loss function\n",
    "    - optimizer (torch.optim.Optimizer): the optimizer\n",
    "    - init_lr (float): the initial learning rate\n",
    "    - final_lr (float): the final learning rate\n",
    "    - num_iters (int): the number of iterations to run\n",
    "    \"\"\"\n",
    "    model.train()\n",
    "    optimizer.param_groups[0]['lr'] = init_lr\n",
    "    \n",
    "    init, final = math.log(init_lr, 10), math.log(final_lr, 10)\n",
    "\n",
    "    \n",
    "    lr_steps = np.logspace(init, final, num=num_iters+1)\n",
    "    lr = init_lr\n",
    "    losses = []\n",
    "    lrs = []\n",
    "    lrs_dx = []\n",
    "    \n",
    "    for i, (inputs, targets) in enumerate(train_loader):\n",
    "        if i >= num_iters:\n",
    "            break\n",
    "        \n",
    "        optimizer.param_groups[0]['lr'] = lr\n",
    "        inputs, targets = inputs.cuda(), targets.cuda()\n",
    "        outputs = model(inputs)\n",
    "        loss = criterion(outputs, targets)\n",
    "        optimizer.zero_grad()\n",
    "        loss.backward()\n",
    "        optimizer.step()\n",
    "        \n",
    "        losses.append(loss.item())\n",
    "        lrs.append(lr)\n",
    "        if i != 0: \n",
    "            lrs_dx.append(loss.item() - losses[i-1]) \n",
    "        lr = lr_steps[i]\n",
    "    \n",
    "    # plot the learning rate vs. loss\n",
    "    plt.plot(lrs, losses)\n",
    "    plt.xscale('log')\n",
    "    plt.xlabel('Learning Rate')\n",
    "    plt.ylabel('Loss')\n",
    "    \n",
    "    max = np.argmin(lrs_dx)\n",
    "    min = np.argmin(losses)\n",
    "    \n",
    "    text = \"highest delta: \" + str(lrs[max])[:7] + \" lowest loss: \" + str(lrs[min])[:7]\n",
    "    plt.title(text)\n",
    "    \n",
    "    plt.scatter(lrs[min], losses[min], c=\"r\")\n",
    "    plt.scatter(lrs[max], losses[max], c=\"g\")\n",
    "    \n",
    "    plt.show()\n",
    "    return losses, lrs, lrs_dx\n"
   ]
  },
  {
   "cell_type": "code",
   "execution_count": 23,
   "id": "b5ffbed2-6d5d-4aca-a26b-c9da7b08e6db",
   "metadata": {},
   "outputs": [
    {
     "data": {
      "image/png": "[encoded data removed]",
      "text/plain": [
       "<Figure size 432x288 with 1 Axes>"
      ]
     },
     "metadata": {
      "needs_background": "light"
     },
     "output_type": "display_data"
    }
   ],
   "source": [
    "losses, lrs, lrs_dx = find_lr(cnn, train_dataloader, loss_fn, optimizer, final_lr=1)"
   ]
  },
  {
   "cell_type": "code",
   "execution_count": 24,
   "id": "2fbddb38-a9e7-4615-beb3-dab27edeb0a0",
   "metadata": {},
   "outputs": [],
   "source": [
    "max = np.argmax(lrs_dx)"
   ]
  },
  {
   "cell_type": "code",
   "execution_count": 25,
   "id": "8b7ee7bf-16cf-49ae-85ac-79323715d72e",
   "metadata": {},
   "outputs": [],
   "source": [
    "min = np.argmin(losses)"
   ]
  },
  {
   "cell_type": "code",
   "execution_count": 26,
   "id": "29c2ad88-6623-495c-81f3-49c2eed843bd",
   "metadata": {},
   "outputs": [
    {
     "data": {
      "text/plain": [
       "0.5754399373371566"
      ]
     },
     "execution_count": 26,
     "metadata": {},
     "output_type": "execute_result"
    }
   ],
   "source": [
    "lrs[max]"
   ]
  },
  {
   "cell_type": "code",
   "execution_count": 29,
   "id": "acc8b5ae-f9a1-4b18-90cb-e47df6332902",
   "metadata": {},
   "outputs": [
    {
     "data": {
      "text/plain": [
       "0.07585775750291836"
      ]
     },
     "execution_count": 29,
     "metadata": {},
     "output_type": "execute_result"
    }
   ],
   "source": [
    "lrs[min]"
   ]
  },
  {
   "cell_type": "code",
   "execution_count": 30,
   "id": "23fa6ff6-e7a7-45b9-8968-25d37f4574b2",
   "metadata": {},
   "outputs": [
    {
     "data": {
      "text/plain": [
       "0.030954644083976746"
      ]
     },
     "execution_count": 30,
     "metadata": {},
     "output_type": "execute_result"
    }
   ],
   "source": [
    "losses[min]"
   ]
  },
  {
   "cell_type": "code",
   "execution_count": null,
   "id": "973eff01-bb39-41e7-a080-201bbaf29ffb",
   "metadata": {},
   "outputs": [],
   "source": []
  },
  {
   "cell_type": "code",
   "execution_count": 31,
   "id": "13b396f0-9fd8-440b-b45b-e3166cfd1fec",
   "metadata": {},
   "outputs": [
    {
     "data": {
      "text/plain": [
       "0.07585775750291836"
      ]
     },
     "execution_count": 31,
     "metadata": {},
     "output_type": "execute_result"
    }
   ],
   "source": [
    "lrs[np.argmin(losses)]"
   ]
  },
  {
   "cell_type": "code",
   "execution_count": 32,
   "id": "53321f87-9a9a-4957-bd6f-6395946ae51b",
   "metadata": {},
   "outputs": [
    {
     "data": {
      "text/plain": [
       "[0.0004647970199584961,\n",
       " 0.001955091953277588,\n",
       " 0.0033115744590759277,\n",
       " -0.005490332841873169,\n",
       " 0.0009840428829193115,\n",
       " 0.0010976195335388184,\n",
       " -0.003761082887649536,\n",
       " 0.002281874418258667,\n",
       " 0.00044101476669311523,\n",
       " -0.00040662288665771484,\n",
       " 0.003652215003967285,\n",
       " 0.0014217793941497803,\n",
       " -0.002428203821182251,\n",
       " 0.0035558342933654785,\n",
       " -0.003526151180267334,\n",
       " -0.002193152904510498,\n",
       " 0.0017150640487670898,\n",
       " -4.690885543823242e-05,\n",
       " 0.0006460845470428467,\n",
       " 0.00026994943618774414,\n",
       " -0.003356248140335083,\n",
       " 0.005942672491073608,\n",
       " -0.006260216236114502,\n",
       " 0.002972900867462158,\n",
       " 0.00035127997398376465,\n",
       " -0.0004892349243164062,\n",
       " -0.0018622875213623047,\n",
       " 0.0018178224563598633,\n",
       " 0.002874702215194702,\n",
       " -0.0022965967655181885,\n",
       " -0.003542274236679077,\n",
       " -0.0006667971611022949,\n",
       " 0.003550797700881958,\n",
       " -0.0017463862895965576,\n",
       " 0.004165083169937134,\n",
       " -0.004844725131988525,\n",
       " 0.0014024674892425537,\n",
       " 0.0011904537677764893,\n",
       " -0.0022326111793518066,\n",
       " 0.0047363340854644775,\n",
       " -0.0017273128032684326,\n",
       " -0.002707064151763916,\n",
       " -0.0015837550163269043,\n",
       " 0.004330366849899292,\n",
       " -0.0021314620971679688,\n",
       " 0.0014400482177734375,\n",
       " -0.0004221498966217041,\n",
       " -0.0026475191116333008,\n",
       " 0.0012407898902893066,\n",
       " 0.0003584623336791992,\n",
       " 0.0012246370315551758,\n",
       " -0.00024068355560302734,\n",
       " -0.006165951490402222,\n",
       " -0.00249481201171875,\n",
       " 0.006384521722793579,\n",
       " -0.0024331212043762207,\n",
       " 0.0019096732139587402,\n",
       " -0.0021557509899139404,\n",
       " -0.0022281408309936523,\n",
       " -0.0026352107524871826,\n",
       " -0.00012502074241638184,\n",
       " -0.0033306777477264404,\n",
       " -0.0018577873706817627,\n",
       " -0.0030697882175445557,\n",
       " -0.0009757280349731445,\n",
       " -0.001512676477432251,\n",
       " -0.006234124302864075,\n",
       " -0.0022470206022262573,\n",
       " -0.008593440055847168,\n",
       " -0.005201458930969238,\n",
       " -0.008341535925865173,\n",
       " -0.010638564825057983,\n",
       " -0.0072547197341918945,\n",
       " -0.012818992137908936,\n",
       " -0.012146919965744019,\n",
       " -0.01842513680458069,\n",
       " -0.009343042969703674,\n",
       " -0.009451627731323242,\n",
       " -0.018044956028461456,\n",
       " -0.014063119888305664,\n",
       " -0.009557217359542847,\n",
       " -0.012241154909133911,\n",
       " -0.010708726942539215,\n",
       " -0.012669343501329422,\n",
       " -0.013493530452251434,\n",
       " -0.013855837285518646,\n",
       " -0.003560241311788559,\n",
       " 0.012012068182229996,\n",
       " 0.09733210131525993,\n",
       " 0.12060990929603577,\n",
       " -0.00899854302406311,\n",
       " -0.02663584053516388,\n",
       " -0.07815875113010406,\n",
       " -0.02409558743238449,\n",
       " 0.11964715272188187,\n",
       " -0.014185339212417603,\n",
       " -0.02577267587184906,\n",
       " -0.13370182365179062,\n",
       " 1.0160292014479637]"
      ]
     },
     "execution_count": 32,
     "metadata": {},
     "output_type": "execute_result"
    }
   ],
   "source": [
    "lrs_dx"
   ]
  },
  {
   "cell_type": "code",
   "execution_count": 33,
   "id": "cc427f11-930f-4710-9bd1-c859e94ee0a9",
   "metadata": {},
   "outputs": [],
   "source": [
    "#  to find steepest point: calculate the derivative, find the min/max)"
   ]
  },
  {
   "cell_type": "code",
   "execution_count": null,
   "id": "e7e388ee-9f20-49ed-8540-71f03144f240",
   "metadata": {},
   "outputs": [],
   "source": []
  },
  {
   "cell_type": "code",
   "execution_count": null,
   "id": "abf0091d-ccb7-44e4-8a12-20e271a02390",
   "metadata": {},
   "outputs": [],
   "source": []
  },
  {
   "cell_type": "code",
   "execution_count": 34,
   "id": "77e29cc1-0e0b-429c-9e36-39a2a0d20694",
   "metadata": {},
   "outputs": [],
   "source": [
    "preds = cnn(X_batch)"
   ]
  },
  {
   "cell_type": "code",
   "execution_count": 35,
   "id": "cb2792f1-948c-4486-84b5-991143b6bb64",
   "metadata": {},
   "outputs": [
    {
     "data": {
      "text/plain": [
       "torch.Size([32, 30])"
      ]
     },
     "execution_count": 35,
     "metadata": {},
     "output_type": "execute_result"
    }
   ],
   "source": [
    "y_batch.shape"
   ]
  },
  {
   "cell_type": "code",
   "execution_count": 36,
   "id": "44ffb220-7fc5-40cb-a852-9129cf552503",
   "metadata": {},
   "outputs": [
    {
     "data": {
      "text/plain": [
       "tensor(0.2752, device='cuda:0', grad_fn=<MseLossBackward0>)"
      ]
     },
     "execution_count": 36,
     "metadata": {},
     "output_type": "execute_result"
    }
   ],
   "source": [
    "loss_fn(preds, y_batch)"
   ]
  },
  {
   "cell_type": "code",
   "execution_count": null,
   "id": "a6df5c82-ddd7-4bfa-a3e9-7a8d54cf9bfa",
   "metadata": {},
   "outputs": [],
   "source": []
  },
  {
   "cell_type": "code",
   "execution_count": null,
   "id": "44a89d1e-1476-4df9-91ba-2735db5ffdb8",
   "metadata": {},
   "outputs": [],
   "source": []
  },
  {
   "cell_type": "markdown",
   "id": "d2fe41a7-d0d4-46ed-8c42-e708b8bd2715",
   "metadata": {},
   "source": [
    "# Gradient Accumilation"
   ]
  },
  {
   "cell_type": "markdown",
   "id": "47baff33-70f7-4dab-bef8-06d7048ccf92",
   "metadata": {},
   "source": [
    "## The same training loop but with gradient accumilation added\n",
    "## __NOTE__: Only run one option\n",
    "Why: some GPU's may run out of memory, but changing batch size will require varying learning rate and confuse things"
   ]
  },
  {
   "cell_type": "code",
   "execution_count": 37,
   "id": "3fbd269d",
   "metadata": {},
   "outputs": [
    {
     "name": "stdout",
     "output_type": "stream",
     "text": [
      "Epoch: 0 | Loss: nan | Test Loss: nan\n",
      "Epoch: 10 | Loss: nan | Test Loss: nan\n",
      "Epoch: 20 | Loss: nan | Test Loss: nan\n",
      "Epoch: 30 | Loss: nan | Test Loss: nan\n"
     ]
    }
   ],
   "source": [
    "# X_blob_train, y_blob_train = train_X, train_Y\n",
    "# X_blob_test, y_blob_test = val_X, val_Y\n",
    "\n",
    "for epoch in range(EPOCHS):\n",
    "    ### Training mode \n",
    "    cnn.train()\n",
    "\n",
    "    \n",
    "    # Set the number of batches to accumulate gradients over\n",
    "    accumulation_steps = 4\n",
    "\n",
    "    # Initialize a counter to keep track of the number of accumulated batches\n",
    "    accumulation_counter = 0\n",
    "\n",
    "    # Create an empty tensor to accumulate gradients over the accumulation steps\n",
    "    grad_acc = {k: torch.zeros_like(v) for k, v in cnn.named_parameters()}\n",
    "\n",
    "    for X_batch, y_batch in train_dataloader:\n",
    "\n",
    "        # 1. Forward pass (model outputs raw logits)\n",
    "        y_logits = cnn(X_batch)\n",
    "\n",
    "        # 2. Calculate loss/accuracy\n",
    "        loss = loss_fn(y_logits, y_batch)\n",
    "\n",
    "        # 3. Loss backwards\n",
    "        loss.backward()\n",
    "\n",
    "        # 4. Accumulate gradients over the accumulation steps\n",
    "        accumulation_counter += 1\n",
    "        if accumulation_counter == accumulation_steps:\n",
    "            for param_name, param in cnn.named_parameters():\n",
    "                grad_acc[param_name] += param.grad / accumulation_steps\n",
    "            accumulation_counter = 0\n",
    "\n",
    "        # 5. Optimizer step (only update weights after accumulating gradients over accumulation_steps)\n",
    "        if accumulation_counter == 0:\n",
    "            for param_name, param in cnn.named_parameters():\n",
    "                param.grad = grad_acc[param_name]\n",
    "            optimizer.step()\n",
    "            optimizer.zero_grad()\n",
    "\n",
    "    # Check if there are any remaining accumulated gradients to update\n",
    "    if accumulation_counter != 0:\n",
    "        for param_name, param in cnn.named_parameters():\n",
    "            param.grad = grad_acc[param_name]\n",
    "        optimizer.step()\n",
    "        optimizer.zero_grad()\n",
    "\n",
    "    \n",
    "    \n",
    "    cnn.eval()\n",
    "    with torch.inference_mode():\n",
    "        for X_batch, y_batch in test_dataloader:\n",
    "            test_logits = cnn(X_batch)\n",
    "            test_loss = loss_fn(test_logits, y_batch)\n",
    "            \n",
    "            \n",
    "    # Print out what's happening\n",
    "    if epoch % 10 == 0:\n",
    "        print(f\"Epoch: {epoch} | Loss: {loss:.5f} | Test Loss: {test_loss:.5f}\")"
   ]
  },
  {
   "cell_type": "code",
   "execution_count": null,
   "id": "2cd3d2ab-1b14-4275-a38a-5eee9cc2d9ed",
   "metadata": {},
   "outputs": [],
   "source": []
  },
  {
   "cell_type": "markdown",
   "id": "5b1a3b0b-760e-4592-a70a-8310c2393feb",
   "metadata": {},
   "source": [
    "## Predictions\n"
   ]
  },
  {
   "cell_type": "code",
   "execution_count": 38,
   "id": "70099a6d-5d42-4676-8057-ddc661cf171a",
   "metadata": {},
   "outputs": [],
   "source": [
    "preds = cnn(val_X.to(device))"
   ]
  },
  {
   "cell_type": "code",
   "execution_count": 39,
   "id": "5c616b45-55dd-4035-b2fa-426bb1b0aa22",
   "metadata": {},
   "outputs": [
    {
     "data": {
      "text/plain": [
       "torch.Size([1409, 30])"
      ]
     },
     "execution_count": 39,
     "metadata": {},
     "output_type": "execute_result"
    }
   ],
   "source": [
    "preds.shape"
   ]
  },
  {
   "cell_type": "code",
   "execution_count": 40,
   "id": "6cd6c4d4-60fa-4678-a5ef-09a2eb23584c",
   "metadata": {},
   "outputs": [
    {
     "data": {
      "text/plain": [
       "torch.Size([1409, 30])"
      ]
     },
     "execution_count": 40,
     "metadata": {},
     "output_type": "execute_result"
    }
   ],
   "source": [
    "val_Y.shape"
   ]
  },
  {
   "cell_type": "code",
   "execution_count": 41,
   "id": "bc89d438-f832-4f00-8976-727bfcf76b66",
   "metadata": {},
   "outputs": [
    {
     "data": {
      "text/plain": [
       "tensor(nan, device='cuda:0', grad_fn=<MseLossBackward0>)"
      ]
     },
     "execution_count": 41,
     "metadata": {},
     "output_type": "execute_result"
    }
   ],
   "source": [
    "loss_fn(preds, val_Y)"
   ]
  },
  {
   "cell_type": "code",
   "execution_count": 42,
   "id": "cd608735-e679-40ae-a53c-0296178e217c",
   "metadata": {},
   "outputs": [
    {
     "data": {
      "text/plain": [
       "(torch.Size([1409, 1, 96, 96]), torch.Size([1409, 30]), torch.Size([1409, 30]))"
      ]
     },
     "execution_count": 42,
     "metadata": {},
     "output_type": "execute_result"
    }
   ],
   "source": [
    "val_X.shape, preds.shape, val_Y.shape"
   ]
  },
  {
   "cell_type": "code",
   "execution_count": 43,
   "id": "3fa2aaa0-588f-4670-9325-8e910dd0b58c",
   "metadata": {},
   "outputs": [
    {
     "data": {
      "text/plain": [
       "tensor(nan, device='cuda:0', grad_fn=<SelectBackward0>)"
      ]
     },
     "execution_count": 43,
     "metadata": {},
     "output_type": "execute_result"
    }
   ],
   "source": [
    "preds[0][1]"
   ]
  },
  {
   "cell_type": "code",
   "execution_count": 44,
   "id": "0bba3416-86f1-45da-965d-de0db943b39e",
   "metadata": {},
   "outputs": [
    {
     "data": {
      "text/plain": [
       "(torch.Size([1, 96, 96]), torch.Size([96, 96]))"
      ]
     },
     "execution_count": 44,
     "metadata": {},
     "output_type": "execute_result"
    }
   ],
   "source": [
    "val_X[1].shape, val_X[1][0].shape"
   ]
  },
  {
   "cell_type": "code",
   "execution_count": null,
   "id": "81f99dcf-b808-481e-85e3-1a58f7a06f9e",
   "metadata": {},
   "outputs": [],
   "source": []
  },
  {
   "cell_type": "code",
   "execution_count": 45,
   "id": "a49344a7-2b32-4a4b-9662-f816ad0bdf84",
   "metadata": {},
   "outputs": [],
   "source": [
    "def show_pred(X, preds, actual, index, point):\n",
    "    plt.imshow(X[index][0],cmap='gray')\n",
    "\n",
    "    plt.scatter(96* preds[index][point],96* preds[index][point + 1] ,c='r', marker='s', s=60, alpha=.5)\n",
    "    plt.scatter(96*actual[index][point],96* actual[index][point+1],c='g', marker='s', s=60, alpha=.5)\n",
    "\n",
    "    plt.legend(['predicted','actual'])\n",
    "    \n"
   ]
  },
  {
   "cell_type": "code",
   "execution_count": 46,
   "id": "431ff6cd-4040-4e18-b81a-cc8cdb6e0823",
   "metadata": {},
   "outputs": [
    {
     "data": {
      "image/png": "[encoded data removed]",
      "text/plain": [
       "<Figure size 432x288 with 1 Axes>"
      ]
     },
     "metadata": {
      "needs_background": "light"
     },
     "output_type": "display_data"
    }
   ],
   "source": [
    "show_pred(val_X.to(\"cpu\"), preds.to(\"cpu\").detach().numpy(), val_Y.to(\"cpu\").detach().numpy(), 0, 0)"
   ]
  },
  {
   "cell_type": "code",
   "execution_count": 47,
   "id": "4ce8ca82-1da8-4bae-adf8-61e2898f87e8",
   "metadata": {},
   "outputs": [
    {
     "data": {
      "text/plain": [
       "(tensor(nan, device='cuda:0', grad_fn=<SelectBackward0>),\n",
       " tensor(nan, device='cuda:0', grad_fn=<SelectBackward0>))"
      ]
     },
     "execution_count": 47,
     "metadata": {},
     "output_type": "execute_result"
    }
   ],
   "source": [
    "preds[0][0], preds[0][1]"
   ]
  },
  {
   "cell_type": "code",
   "execution_count": 48,
   "id": "4f924af9-d7ea-4378-8faa-452d28affd5c",
   "metadata": {},
   "outputs": [
    {
     "data": {
      "text/plain": [
       "(tensor(0.6736, device='cuda:0'), tensor(0.3915, device='cuda:0'))"
      ]
     },
     "execution_count": 48,
     "metadata": {},
     "output_type": "execute_result"
    }
   ],
   "source": [
    "val_Y[0][0], val_Y[0][1]"
   ]
  },
  {
   "cell_type": "code",
   "execution_count": 49,
   "id": "9d8d8ab2-8430-4e89-a193-4fbfbb861075",
   "metadata": {},
   "outputs": [
    {
     "data": {
      "text/plain": [
       "tensor([[0.1843, 0.1529, 0.1255,  ..., 0.2902, 0.2980, 0.3137],\n",
       "        [0.1725, 0.1529, 0.1333,  ..., 0.2863, 0.2941, 0.3059],\n",
       "        [0.1686, 0.1608, 0.1451,  ..., 0.2863, 0.2941, 0.2980],\n",
       "        ...,\n",
       "        [0.2902, 0.2902, 0.2902,  ..., 0.2314, 0.2353, 0.2392],\n",
       "        [0.2980, 0.2902, 0.2863,  ..., 0.2353, 0.2392, 0.2471],\n",
       "        [0.3059, 0.2941, 0.2824,  ..., 0.2431, 0.2431, 0.2471]],\n",
       "       device='cuda:0')"
      ]
     },
     "execution_count": 49,
     "metadata": {},
     "output_type": "execute_result"
    }
   ],
   "source": [
    "val_X[0][0]"
   ]
  },
  {
   "cell_type": "code",
   "execution_count": null,
   "id": "7432aac6-20be-4360-aa43-ac1c9e1f6dac",
   "metadata": {},
   "outputs": [],
   "source": []
  },
  {
   "cell_type": "code",
   "execution_count": null,
   "id": "37776afd-9615-45e4-a3c9-4a6fb0ed6778",
   "metadata": {},
   "outputs": [],
   "source": []
  },
  {
   "cell_type": "code",
   "execution_count": null,
   "id": "46dece4a-be6c-4a91-b616-982504036173",
   "metadata": {},
   "outputs": [],
   "source": []
  },
  {
   "cell_type": "code",
   "execution_count": null,
   "id": "4d872651-4468-4966-9b2a-c15581494473",
   "metadata": {},
   "outputs": [],
   "source": []
  },
  {
   "cell_type": "code",
   "execution_count": null,
   "id": "c3aee4dc-5e71-4f16-914c-3e5ffdcdd0c9",
   "metadata": {},
   "outputs": [],
   "source": []
  },
  {
   "cell_type": "code",
   "execution_count": null,
   "id": "a25a4df6-1c87-459a-816d-240a6a134920",
   "metadata": {},
   "outputs": [],
   "source": []
  },
  {
   "cell_type": "code",
   "execution_count": null,
   "id": "c58b4cb5-b95d-4024-8dd1-9568c9653604",
   "metadata": {},
   "outputs": [],
   "source": []
  },
  {
   "cell_type": "code",
   "execution_count": null,
   "id": "491509ee-7b38-4890-a585-3c104d51e1fa",
   "metadata": {},
   "outputs": [],
   "source": []
  },
  {
   "cell_type": "code",
   "execution_count": null,
   "id": "15d2aa0c-e4fa-4da3-9819-647c345ec922",
   "metadata": {},
   "outputs": [],
   "source": []
  },
  {
   "cell_type": "code",
   "execution_count": null,
   "id": "184b2c44-972b-422b-83ea-bdd78c620b6f",
   "metadata": {},
   "outputs": [],
   "source": []
  },
  {
   "cell_type": "code",
   "execution_count": null,
   "id": "a751707e-c698-4f54-b21c-445672de54ab",
   "metadata": {},
   "outputs": [],
   "source": []
  },
  {
   "cell_type": "code",
   "execution_count": null,
   "id": "00bec1a0-8501-40db-920a-0a145f77f875",
   "metadata": {},
   "outputs": [],
   "source": []
  },
  {
   "cell_type": "code",
   "execution_count": null,
   "id": "cf2bcc21-8840-4685-aaf6-b17d789cda10",
   "metadata": {},
   "outputs": [],
   "source": []
  },
  {
   "cell_type": "code",
   "execution_count": null,
   "id": "5263c757-030a-41f9-8d58-682a6dd65ee6",
   "metadata": {},
   "outputs": [],
   "source": []
  },
  {
   "cell_type": "code",
   "execution_count": null,
   "id": "815950f4-828a-4247-8f03-f12751337bd3",
   "metadata": {},
   "outputs": [],
   "source": []
  },
  {
   "cell_type": "code",
   "execution_count": null,
   "id": "f02bb1d3-d1f0-451e-843e-7d7e4673dc24",
   "metadata": {},
   "outputs": [],
   "source": []
  },
  {
   "cell_type": "code",
   "execution_count": null,
   "id": "2e1459a1-08b3-44ab-aa1a-951f5ab30cb7",
   "metadata": {},
   "outputs": [],
   "source": []
  },
  {
   "cell_type": "code",
   "execution_count": null,
   "id": "36161f2d-0ab6-4a3b-b770-f55a6d6c0cab",
   "metadata": {},
   "outputs": [],
   "source": []
  },
  {
   "cell_type": "code",
   "execution_count": null,
   "id": "601218ec-2e94-4b68-be52-2b464f336557",
   "metadata": {},
   "outputs": [],
   "source": []
  },
  {
   "cell_type": "code",
   "execution_count": null,
   "id": "59d7fc5d-43cc-4d2c-a7cc-b60d0aa7aacd",
   "metadata": {},
   "outputs": [],
   "source": []
  },
  {
   "cell_type": "code",
   "execution_count": null,
   "id": "8676b16a-7420-4f93-8287-60ff22ad3706",
   "metadata": {},
   "outputs": [],
   "source": []
  },
  {
   "cell_type": "code",
   "execution_count": null,
   "id": "40b1f495-5ae6-4505-a0de-0e366de370ba",
   "metadata": {},
   "outputs": [],
   "source": []
  },
  {
   "cell_type": "code",
   "execution_count": null,
   "id": "583eb203-3bcb-4408-8d9f-261845ea2591",
   "metadata": {},
   "outputs": [],
   "source": []
  }
 ],
 "metadata": {
  "kernelspec": {
   "display_name": "Python 3 (ipykernel)",
   "language": "python",
   "name": "python3"
  },
  "language_info": {
   "codemirror_mode": {
    "name": "ipython",
    "version": 3
   },
   "file_extension": ".py",
   "mimetype": "text/x-python",
   "name": "python",
   "nbconvert_exporter": "python",
   "pygments_lexer": "ipython3",
   "version": "3.9.13"
  }
 },
 "nbformat": 4,
 "nbformat_minor": 5
}
