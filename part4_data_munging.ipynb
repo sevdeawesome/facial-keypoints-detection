{
 "cells": [
  {
   "cell_type": "markdown",
   "id": "15d7f278-180a-4ea9-9baf-088fdbdbac9a",
   "metadata": {},
   "source": [
    "# NOTE TO SELF 4/10:: YOU NEED (1) NORMALIZE data, then TO find out what size convolution layers to use and find out "
   ]
  },
  {
   "cell_type": "code",
   "execution_count": 1,
   "id": "6cea7897-6033-4325-a80d-21351e42ee83",
   "metadata": {},
   "outputs": [],
   "source": [
    "from utils import * \n",
    "import utils as utils\n",
    "\n",
    "training_df = pd.read_csv(\"data/training.csv\").iloc[:500]\n",
    "lookup_df = pd.read_csv(\"data/IdLookupTable.csv\")\n",
    "training_df.fillna(method = 'ffill',inplace = True)"
   ]
  },
  {
   "cell_type": "code",
   "execution_count": 2,
   "id": "a3f050b1-6529-409a-9183-1845badd99e8",
   "metadata": {},
   "outputs": [],
   "source": [
    "train_X, train_Y, val_X, val_Y = create_train_test_sets_nchw(training_df)"
   ]
  },
  {
   "cell_type": "code",
   "execution_count": 3,
   "id": "937f7471-73e5-4282-a03d-7330fa1f7ffe",
   "metadata": {},
   "outputs": [
    {
     "data": {
      "text/plain": [
       "(torch.Size([400, 1, 96, 96]),\n",
       " torch.Size([400, 30]),\n",
       " torch.Size([100, 1, 96, 96]),\n",
       " torch.Size([100, 30]))"
      ]
     },
     "execution_count": 3,
     "metadata": {},
     "output_type": "execute_result"
    }
   ],
   "source": [
    "train_X.shape, train_Y.shape, val_X.shape, val_Y.shape"
   ]
  },
  {
   "cell_type": "code",
   "execution_count": 4,
   "id": "ffcce935-83a9-4941-a1b3-90eb06ab7808",
   "metadata": {},
   "outputs": [
    {
     "data": {
      "text/plain": [
       "torch.Tensor"
      ]
     },
     "execution_count": 4,
     "metadata": {},
     "output_type": "execute_result"
    }
   ],
   "source": [
    "type(train_X[0][0][0][0])"
   ]
  },
  {
   "cell_type": "code",
   "execution_count": 5,
   "id": "465a62cd-e8dd-4292-921e-c119faf63f2c",
   "metadata": {},
   "outputs": [
    {
     "data": {
      "text/plain": [
       "torch.Tensor"
      ]
     },
     "execution_count": 5,
     "metadata": {},
     "output_type": "execute_result"
    }
   ],
   "source": [
    "type(train_Y[0][0])"
   ]
  },
  {
   "cell_type": "code",
   "execution_count": null,
   "id": "eaaf90eb-50ec-4d80-964d-6eabe9fb58a4",
   "metadata": {},
   "outputs": [],
   "source": []
  },
  {
   "cell_type": "code",
   "execution_count": null,
   "id": "5c9438ba-7491-4dfa-a643-db0f02215ef4",
   "metadata": {},
   "outputs": [],
   "source": []
  },
  {
   "cell_type": "markdown",
   "id": "ef8a44cf-bef8-467c-9e3e-573ca791ee42",
   "metadata": {},
   "source": [
    "## Using torch dataloader and dataset class to format data"
   ]
  },
  {
   "cell_type": "code",
   "execution_count": 6,
   "id": "bf9f9dad-251d-484a-a866-1648f23a8d2b",
   "metadata": {},
   "outputs": [],
   "source": [
    "from torch.utils.data import Dataset, DataLoader"
   ]
  },
  {
   "cell_type": "code",
   "execution_count": 7,
   "id": "d70065c1-df6d-4b47-8ecd-333d768d937b",
   "metadata": {},
   "outputs": [],
   "source": [
    "# ?DataLoader\n",
    "# ??Dataset"
   ]
  },
  {
   "cell_type": "code",
   "execution_count": 11,
   "id": "cc21b289-6f10-4f08-be7b-583edfe26a73",
   "metadata": {},
   "outputs": [],
   "source": [
    "class KeypointsDataset(Dataset):\n",
    "    def __init__(self, images, keypoints):\n",
    "        self.images = images.float()\n",
    "        self.keypoints = keypoints.float()\n",
    "\n",
    "    def __len__(self):\n",
    "        return len(self.images)\n",
    "\n",
    "    def __getitem__(self, index):\n",
    "        image = self.images[index]\n",
    "        keypoint = self.keypoints[index]\n",
    "        return image, keypoint"
   ]
  },
  {
   "cell_type": "code",
   "execution_count": null,
   "id": "82d1cc4d-1c74-4c97-bda0-15ba3209c79c",
   "metadata": {},
   "outputs": [],
   "source": []
  },
  {
   "cell_type": "code",
   "execution_count": 12,
   "id": "2cddd675-05fd-483a-b664-ae409dae7e58",
   "metadata": {},
   "outputs": [
    {
     "data": {
      "text/plain": [
       "(torch.Size([100, 1, 96, 96]), torch.Size([100, 30]))"
      ]
     },
     "execution_count": 12,
     "metadata": {},
     "output_type": "execute_result"
    }
   ],
   "source": [
    "val_X.shape, val_Y.shape"
   ]
  },
  {
   "cell_type": "code",
   "execution_count": 13,
   "id": "79cfb402-d68d-4351-9cf3-d8185bf5dd55",
   "metadata": {},
   "outputs": [],
   "source": [
    "dataset = KeypointsDataset(train_X, train_Y)\n",
    "data_loader = DataLoader(dataset, batch_size=64,shuffle=False)"
   ]
  },
  {
   "cell_type": "code",
   "execution_count": 14,
   "id": "d3fb1295-9758-42d7-9a09-9f07a7a87186",
   "metadata": {},
   "outputs": [
    {
     "data": {
      "text/plain": [
       "<__main__.KeypointsDataset at 0x7f1c97a82760>"
      ]
     },
     "execution_count": 14,
     "metadata": {},
     "output_type": "execute_result"
    }
   ],
   "source": [
    "dataset"
   ]
  },
  {
   "cell_type": "code",
   "execution_count": 15,
   "id": "6ead95ac-0b05-4f92-be30-d9988f639176",
   "metadata": {},
   "outputs": [
    {
     "data": {
      "text/plain": [
       "<torch.utils.data.dataloader.DataLoader at 0x7f1c97a82f40>"
      ]
     },
     "execution_count": 15,
     "metadata": {},
     "output_type": "execute_result"
    }
   ],
   "source": [
    "data_loader"
   ]
  },
  {
   "cell_type": "code",
   "execution_count": 16,
   "id": "5e2e2d80-02ba-4f08-87b8-9e49b90727df",
   "metadata": {},
   "outputs": [
    {
     "name": "stdout",
     "output_type": "stream",
     "text": [
      "batch size:  torch.Size([64, 1, 96, 96])\n",
      "batch idx:  0\n",
      "batch label:  tensor([[66.0336, 39.0023, 30.2270,  ..., 72.9355, 43.1307, 84.4858],\n",
      "        [64.3329, 34.9701, 29.9493,  ..., 70.2666, 45.4679, 85.4802],\n",
      "        [65.0571, 34.9096, 30.9038,  ..., 70.1918, 47.2749, 78.6594],\n",
      "        ...,\n",
      "        [65.4344, 36.8582, 29.2612,  ..., 64.6193, 46.6466, 83.6869],\n",
      "        [65.4425, 36.5345, 29.1397,  ..., 68.2994, 47.2911, 80.6751],\n",
      "        [65.7883, 34.7457, 26.6281,  ..., 70.4505, 47.6476, 81.9679]])\n"
     ]
    }
   ],
   "source": [
    "for idx,batch in enumerate(data_loader):\n",
    "    print(\"batch size: \", batch[0].size())\n",
    "    print(\"batch idx: \",  idx)\n",
    "    print(\"batch label: \" , batch[1])\n",
    "    break"
   ]
  },
  {
   "cell_type": "code",
   "execution_count": 19,
   "id": "0017b98c-b2af-436b-b435-75eff557b939",
   "metadata": {},
   "outputs": [
    {
     "name": "stdout",
     "output_type": "stream",
     "text": [
      "torch.Size([64, 1, 96, 96])\n",
      "torch.Size([64, 30])\n"
     ]
    }
   ],
   "source": [
    "for idx, (data,target) in enumerate(data_loader):\n",
    "    print(data.shape)\n",
    "    print(target.shape)\n",
    "    break"
   ]
  },
  {
   "cell_type": "code",
   "execution_count": null,
   "id": "005a0f0a-a601-4289-b123-187db8479909",
   "metadata": {},
   "outputs": [],
   "source": []
  },
  {
   "cell_type": "code",
   "execution_count": 20,
   "id": "4fe16f94-0cea-47c3-8c67-2ce4b4ce708d",
   "metadata": {},
   "outputs": [
    {
     "name": "stderr",
     "output_type": "stream",
     "text": [
      "/usr/local/lib/python3.9/dist-packages/torchvision/models/_utils.py:208: UserWarning: The parameter 'pretrained' is deprecated since 0.13 and will be removed in 0.15, please use 'weights' instead.\n",
      "  warnings.warn(\n",
      "/usr/local/lib/python3.9/dist-packages/torchvision/models/_utils.py:223: UserWarning: Arguments other than a weight enum or `None` for 'weights' are deprecated since 0.13 and will be removed in 0.15. The current behavior is equivalent to passing `weights=ResNet18_Weights.IMAGENET1K_V1`. You can also use `weights=ResNet18_Weights.DEFAULT` to get the most up-to-date weights.\n",
      "  warnings.warn(msg)\n"
     ]
    }
   ],
   "source": [
    "resnet = models.resnet18(pretrained=True)"
   ]
  },
  {
   "cell_type": "code",
   "execution_count": 21,
   "id": "40655857-ae50-4e5a-aaa9-8a47256dfd4e",
   "metadata": {},
   "outputs": [
    {
     "data": {
      "text/plain": [
       "<generator object Module.parameters at 0x7f1c97130120>"
      ]
     },
     "execution_count": 21,
     "metadata": {},
     "output_type": "execute_result"
    }
   ],
   "source": [
    "# print(model) #Show model architecture\n",
    "resnet.parameters()"
   ]
  },
  {
   "cell_type": "code",
   "execution_count": 22,
   "id": "8d629c27-52b6-4850-97e9-15975c2b90bb",
   "metadata": {},
   "outputs": [],
   "source": [
    "# Seeing the parameters \n",
    "\n",
    "# for name, param in model.conv1.named_parameters():\n",
    "#     if param.requires_grad:\n",
    "#         print(name, param.data)"
   ]
  },
  {
   "cell_type": "code",
   "execution_count": null,
   "id": "ea9c6f55-7919-48f5-ae5a-8038a7c11830",
   "metadata": {},
   "outputs": [],
   "source": []
  },
  {
   "cell_type": "code",
   "execution_count": 28,
   "id": "1e607bf6-b6e1-4367-967d-2069de2b1deb",
   "metadata": {},
   "outputs": [
    {
     "name": "stdout",
     "output_type": "stream",
     "text": [
      "torch.Size([64, 1, 96, 96]) torch.Size([64, 30])\n"
     ]
    }
   ],
   "source": [
    "# Check the input and output shapes\n",
    "\n",
    "for X_batch, y_batch in data_loader:\n",
    "    print(X_batch.shape, y_batch.shape)\n",
    "    break"
   ]
  },
  {
   "cell_type": "code",
   "execution_count": null,
   "id": "73aeef4d-1574-4717-995a-a004159741d9",
   "metadata": {},
   "outputs": [],
   "source": []
  },
  {
   "cell_type": "markdown",
   "id": "3e997724-0722-48c5-a13a-607178603462",
   "metadata": {},
   "source": [
    "## Very Simple CNN Model"
   ]
  },
  {
   "cell_type": "code",
   "execution_count": 29,
   "id": "e7ebfb08-d143-42bc-ba71-5c1383f60e9b",
   "metadata": {},
   "outputs": [],
   "source": [
    "import torch\n",
    "import torch.nn as nn\n",
    "import torch.optim as optim\n",
    "from sklearn.model_selection import train_test_split"
   ]
  },
  {
   "cell_type": "code",
   "execution_count": 36,
   "id": "80ea8b64-ddd0-4664-bad7-a46661e8976d",
   "metadata": {},
   "outputs": [],
   "source": [
    "class SimpleCNN(nn.Module):\n",
    "    def __init__(self):\n",
    "        super(SimpleCNN, self).__init__()\n",
    "        self.conv1 = nn.Conv2d(in_channels=1, out_channels=32, kernel_size=3, stride=1, padding=1)\n",
    "        self.pool = nn.MaxPool2d(kernel_size=2, stride=2)\n",
    "        self.conv2 = nn.Conv2d(in_channels=32, out_channels=64, kernel_size=3, stride=1, padding=1)\n",
    "        self.fc1 = nn.Linear(64 * 24 * 24, 30)\n",
    "\n",
    "    def forward(self, x):\n",
    "        x = self.pool(torch.relu(self.conv1(x)))\n",
    "        x = self.pool(torch.relu(self.conv2(x)))\n",
    "        x = x.view(-1, 64 * 24 * 24)\n",
    "        x = self.fc1(x)\n",
    "        return x\n",
    "\n",
    " "
   ]
  },
  {
   "cell_type": "code",
   "execution_count": 37,
   "id": "67fb2bb2-fd4e-4f92-a69c-b40c07c873d8",
   "metadata": {},
   "outputs": [
    {
     "data": {
      "text/plain": [
       "torchvision.models.resnet.ResNet"
      ]
     },
     "execution_count": 37,
     "metadata": {},
     "output_type": "execute_result"
    }
   ],
   "source": [
    "type(resnet)\n"
   ]
  },
  {
   "cell_type": "code",
   "execution_count": 38,
   "id": "32c37862-4910-4aad-947f-88999a3188d3",
   "metadata": {},
   "outputs": [],
   "source": [
    "simple_cnn = SimpleCNN()"
   ]
  },
  {
   "cell_type": "code",
   "execution_count": 39,
   "id": "f5a17150-d6b4-4aad-8662-97b8046730a5",
   "metadata": {},
   "outputs": [
    {
     "data": {
      "text/plain": [
       "__main__.SimpleCNN"
      ]
     },
     "execution_count": 39,
     "metadata": {},
     "output_type": "execute_result"
    }
   ],
   "source": [
    "type(simple_cnn)\n"
   ]
  },
  {
   "cell_type": "code",
   "execution_count": 40,
   "id": "915107b8-5c97-46b4-85f1-f5b39b13c360",
   "metadata": {},
   "outputs": [
    {
     "ename": "RuntimeError",
     "evalue": "all elements of input should be between 0 and 1",
     "output_type": "error",
     "traceback": [
      "\u001b[0;31m---------------------------------------------------------------------------\u001b[0m",
      "\u001b[0;31mRuntimeError\u001b[0m                              Traceback (most recent call last)",
      "Input \u001b[0;32mIn [40]\u001b[0m, in \u001b[0;36m<cell line: 6>\u001b[0;34m()\u001b[0m\n\u001b[1;32m      7\u001b[0m \u001b[38;5;28;01mfor\u001b[39;00m X_batch, y_batch \u001b[38;5;129;01min\u001b[39;00m data_loader:\n\u001b[1;32m      8\u001b[0m     y_pred \u001b[38;5;241m=\u001b[39m simple_cnn(X_batch)\n\u001b[0;32m----> 9\u001b[0m     loss \u001b[38;5;241m=\u001b[39m \u001b[43mloss_fn\u001b[49m\u001b[43m(\u001b[49m\u001b[43my_pred\u001b[49m\u001b[43m,\u001b[49m\u001b[43m \u001b[49m\u001b[43my_batch\u001b[49m\u001b[43m)\u001b[49m\n\u001b[1;32m     10\u001b[0m     optimizer\u001b[38;5;241m.\u001b[39mzero_grad()\n\u001b[1;32m     11\u001b[0m     loss\u001b[38;5;241m.\u001b[39mbackward()\n",
      "File \u001b[0;32m/usr/local/lib/python3.9/dist-packages/torch/nn/modules/module.py:1130\u001b[0m, in \u001b[0;36mModule._call_impl\u001b[0;34m(self, *input, **kwargs)\u001b[0m\n\u001b[1;32m   1126\u001b[0m \u001b[38;5;66;03m# If we don't have any hooks, we want to skip the rest of the logic in\u001b[39;00m\n\u001b[1;32m   1127\u001b[0m \u001b[38;5;66;03m# this function, and just call forward.\u001b[39;00m\n\u001b[1;32m   1128\u001b[0m \u001b[38;5;28;01mif\u001b[39;00m \u001b[38;5;129;01mnot\u001b[39;00m (\u001b[38;5;28mself\u001b[39m\u001b[38;5;241m.\u001b[39m_backward_hooks \u001b[38;5;129;01mor\u001b[39;00m \u001b[38;5;28mself\u001b[39m\u001b[38;5;241m.\u001b[39m_forward_hooks \u001b[38;5;129;01mor\u001b[39;00m \u001b[38;5;28mself\u001b[39m\u001b[38;5;241m.\u001b[39m_forward_pre_hooks \u001b[38;5;129;01mor\u001b[39;00m _global_backward_hooks\n\u001b[1;32m   1129\u001b[0m         \u001b[38;5;129;01mor\u001b[39;00m _global_forward_hooks \u001b[38;5;129;01mor\u001b[39;00m _global_forward_pre_hooks):\n\u001b[0;32m-> 1130\u001b[0m     \u001b[38;5;28;01mreturn\u001b[39;00m \u001b[43mforward_call\u001b[49m\u001b[43m(\u001b[49m\u001b[38;5;241;43m*\u001b[39;49m\u001b[38;5;28;43minput\u001b[39;49m\u001b[43m,\u001b[49m\u001b[43m \u001b[49m\u001b[38;5;241;43m*\u001b[39;49m\u001b[38;5;241;43m*\u001b[39;49m\u001b[43mkwargs\u001b[49m\u001b[43m)\u001b[49m\n\u001b[1;32m   1131\u001b[0m \u001b[38;5;66;03m# Do not call functions when jit is used\u001b[39;00m\n\u001b[1;32m   1132\u001b[0m full_backward_hooks, non_full_backward_hooks \u001b[38;5;241m=\u001b[39m [], []\n",
      "File \u001b[0;32m/usr/local/lib/python3.9/dist-packages/torch/nn/modules/loss.py:613\u001b[0m, in \u001b[0;36mBCELoss.forward\u001b[0;34m(self, input, target)\u001b[0m\n\u001b[1;32m    612\u001b[0m \u001b[38;5;28;01mdef\u001b[39;00m \u001b[38;5;21mforward\u001b[39m(\u001b[38;5;28mself\u001b[39m, \u001b[38;5;28minput\u001b[39m: Tensor, target: Tensor) \u001b[38;5;241m-\u001b[39m\u001b[38;5;241m>\u001b[39m Tensor:\n\u001b[0;32m--> 613\u001b[0m     \u001b[38;5;28;01mreturn\u001b[39;00m \u001b[43mF\u001b[49m\u001b[38;5;241;43m.\u001b[39;49m\u001b[43mbinary_cross_entropy\u001b[49m\u001b[43m(\u001b[49m\u001b[38;5;28;43minput\u001b[39;49m\u001b[43m,\u001b[49m\u001b[43m \u001b[49m\u001b[43mtarget\u001b[49m\u001b[43m,\u001b[49m\u001b[43m \u001b[49m\u001b[43mweight\u001b[49m\u001b[38;5;241;43m=\u001b[39;49m\u001b[38;5;28;43mself\u001b[39;49m\u001b[38;5;241;43m.\u001b[39;49m\u001b[43mweight\u001b[49m\u001b[43m,\u001b[49m\u001b[43m \u001b[49m\u001b[43mreduction\u001b[49m\u001b[38;5;241;43m=\u001b[39;49m\u001b[38;5;28;43mself\u001b[39;49m\u001b[38;5;241;43m.\u001b[39;49m\u001b[43mreduction\u001b[49m\u001b[43m)\u001b[49m\n",
      "File \u001b[0;32m/usr/local/lib/python3.9/dist-packages/torch/nn/functional.py:3083\u001b[0m, in \u001b[0;36mbinary_cross_entropy\u001b[0;34m(input, target, weight, size_average, reduce, reduction)\u001b[0m\n\u001b[1;32m   3080\u001b[0m     new_size \u001b[38;5;241m=\u001b[39m _infer_size(target\u001b[38;5;241m.\u001b[39msize(), weight\u001b[38;5;241m.\u001b[39msize())\n\u001b[1;32m   3081\u001b[0m     weight \u001b[38;5;241m=\u001b[39m weight\u001b[38;5;241m.\u001b[39mexpand(new_size)\n\u001b[0;32m-> 3083\u001b[0m \u001b[38;5;28;01mreturn\u001b[39;00m \u001b[43mtorch\u001b[49m\u001b[38;5;241;43m.\u001b[39;49m\u001b[43m_C\u001b[49m\u001b[38;5;241;43m.\u001b[39;49m\u001b[43m_nn\u001b[49m\u001b[38;5;241;43m.\u001b[39;49m\u001b[43mbinary_cross_entropy\u001b[49m\u001b[43m(\u001b[49m\u001b[38;5;28;43minput\u001b[39;49m\u001b[43m,\u001b[49m\u001b[43m \u001b[49m\u001b[43mtarget\u001b[49m\u001b[43m,\u001b[49m\u001b[43m \u001b[49m\u001b[43mweight\u001b[49m\u001b[43m,\u001b[49m\u001b[43m \u001b[49m\u001b[43mreduction_enum\u001b[49m\u001b[43m)\u001b[49m\n",
      "\u001b[0;31mRuntimeError\u001b[0m: all elements of input should be between 0 and 1"
     ]
    }
   ],
   "source": [
    "# Train the model\n",
    "n_epochs = 200\n",
    "loss_fn = nn.BCELoss()\n",
    "optimizer = optim.SGD(simple_cnn.parameters(), lr=0.1)\n",
    "simple_cnn.train()\n",
    "for epoch in range(n_epochs):\n",
    "    for X_batch, y_batch in data_loader:\n",
    "        y_pred = simple_cnn(X_batch)\n",
    "        loss = loss_fn(y_pred, y_batch)\n",
    "        optimizer.zero_grad()\n",
    "        loss.backward()\n",
    "        optimizer.step()\n",
    "        \n",
    " "
   ]
  },
  {
   "cell_type": "code",
   "execution_count": null,
   "id": "e67b635d-5d34-4060-b09c-2abcd5bbc6e4",
   "metadata": {},
   "outputs": [],
   "source": []
  },
  {
   "cell_type": "code",
   "execution_count": null,
   "id": "074c6113-ad8a-4799-901a-a2d2f12f5377",
   "metadata": {},
   "outputs": [],
   "source": [
    "# evaluate accuracy after training\n",
    "model.eval()\n",
    "y_pred = model(X_test)\n",
    "acc = (y_pred.round() == y_test).float().mean()\n",
    "acc = float(acc)\n",
    "print(\"Model accuracy: %.2f%%\" % (acc*100))"
   ]
  },
  {
   "cell_type": "code",
   "execution_count": null,
   "id": "211555ad-58cb-4db0-a42d-ef9ebad7f5e5",
   "metadata": {},
   "outputs": [],
   "source": []
  },
  {
   "cell_type": "code",
   "execution_count": null,
   "id": "583eb203-3bcb-4408-8d9f-261845ea2591",
   "metadata": {},
   "outputs": [],
   "source": []
  },
  {
   "cell_type": "code",
   "execution_count": null,
   "id": "859c18c5-016a-49d2-9124-d68416809d60",
   "metadata": {},
   "outputs": [],
   "source": []
  }
 ],
 "metadata": {
  "kernelspec": {
   "display_name": "Python 3 (ipykernel)",
   "language": "python",
   "name": "python3"
  },
  "language_info": {
   "codemirror_mode": {
    "name": "ipython",
    "version": 3
   },
   "file_extension": ".py",
   "mimetype": "text/x-python",
   "name": "python",
   "nbconvert_exporter": "python",
   "pygments_lexer": "ipython3",
   "version": "3.9.13"
  }
 },
 "nbformat": 4,
 "nbformat_minor": 5
}
