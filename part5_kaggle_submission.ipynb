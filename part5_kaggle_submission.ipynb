{
 "cells": [
  {
   "cell_type": "code",
   "execution_count": null,
   "id": "920af82b-87f2-424e-b2ea-360a1fcb412e",
   "metadata": {},
   "outputs": [],
   "source": [
    "from utils.notebook_2_utils import * \n",
    "import utils.notebook_2_utils as utils\n",
    "\n",
    "training_df = pd.read_csv(\"data/training.csv\")\n",
    "lookup_df = pd.read_csv(\"data/IdLookupTable.csv\")\n",
    "training_df.fillna(method = 'ffill',inplace = True)\n",
    "\n",
    "device = \"cuda\" if torch.cuda.is_available() else \"cpu\"\n",
    "device"
   ]
  },
  {
   "cell_type": "code",
   "execution_count": null,
   "id": "9f34cdeb-1448-45fe-9ed6-2929e3a46fe5",
   "metadata": {},
   "outputs": [],
   "source": []
  },
  {
   "cell_type": "markdown",
   "id": "61c8471e-1df5-4d9f-aa9f-5bb278f25b68",
   "metadata": {},
   "source": [
    "## load the model from the saved file"
   ]
  },
  {
   "cell_type": "code",
   "execution_count": null,
   "id": "8c263c1e-094b-466c-b9ea-5cf57e06ff76",
   "metadata": {},
   "outputs": [],
   "source": [
    "resnet = models.resnet18(pretrained=True)\n",
    "resnet.conv1 = nn.Conv2d(1, 64, kernel_size=(7, 7), stride=(2, 2), padding=(3, 3), bias=False)\n",
    "resnet.fc = nn.Sequential(\n",
    "    nn.Dropout(p=0.5),\n",
    "    nn.Linear(512, 30)\n",
    ")\n",
    "resnet.load_state_dict(torch.load(\"resnet18.pt\"))"
   ]
  },
  {
   "cell_type": "code",
   "execution_count": null,
   "id": "d179dd4a-abfb-4841-b296-0a3c34a5ef72",
   "metadata": {},
   "outputs": [],
   "source": []
  },
  {
   "cell_type": "code",
   "execution_count": null,
   "id": "c1816abb-b111-431c-9b0d-00bb1c2547cb",
   "metadata": {},
   "outputs": [],
   "source": []
  },
  {
   "cell_type": "markdown",
   "id": "3e11ef39-7736-40cf-af19-858225244a2a",
   "metadata": {},
   "source": [
    "## Make predictions on the entirety of the training set"
   ]
  },
  {
   "cell_type": "code",
   "execution_count": null,
   "id": "e2ffb986-5653-41ef-bcd3-861115b59675",
   "metadata": {},
   "outputs": [],
   "source": [
    "# train_X will have all the X, train_Y will have all the Y\n",
    "\n",
    "train_X, train_Y, val_X, val_Y = create_train_test_sets_nchw(training_df, test_size=0, normalize=True)"
   ]
  },
  {
   "cell_type": "code",
   "execution_count": null,
   "id": "dc731c38-057d-44fa-8f2d-4790adf0b4f7",
   "metadata": {},
   "outputs": [],
   "source": [
    "train_X.shape"
   ]
  },
  {
   "cell_type": "code",
   "execution_count": null,
   "id": "baba86ed-f181-43cb-9ff8-20f3352af895",
   "metadata": {},
   "outputs": [],
   "source": [
    "preds = resnet(train_X)"
   ]
  },
  {
   "cell_type": "code",
   "execution_count": null,
   "id": "abb9ef84-84fa-42c8-8531-4403029f5548",
   "metadata": {},
   "outputs": [],
   "source": []
  },
  {
   "cell_type": "code",
   "execution_count": 1,
   "id": "464bbfce-1fbe-4a0a-9105-167485ab2168",
   "metadata": {},
   "outputs": [
    {
     "ename": "NameError",
     "evalue": "name 'lookup_df' is not defined",
     "output_type": "error",
     "traceback": [
      "\u001b[0;31m---------------------------------------------------------------------------\u001b[0m",
      "\u001b[0;31mNameError\u001b[0m                                 Traceback (most recent call last)",
      "Input \u001b[0;32mIn [1]\u001b[0m, in \u001b[0;36m<cell line: 1>\u001b[0;34m()\u001b[0m\n\u001b[0;32m----> 1\u001b[0m \u001b[43mlookup_df\u001b[49m\u001b[38;5;241m.\u001b[39mdescribe()\n",
      "\u001b[0;31mNameError\u001b[0m: name 'lookup_df' is not defined"
     ]
    }
   ],
   "source": [
    "lookup_df.describe()"
   ]
  },
  {
   "cell_type": "code",
   "execution_count": null,
   "id": "1be265b2-b011-4920-9eab-ab205f030102",
   "metadata": {},
   "outputs": [],
   "source": []
  },
  {
   "cell_type": "code",
   "execution_count": null,
   "id": "f9a1064d-880b-4946-a5f5-afbfc8cb2bd5",
   "metadata": {},
   "outputs": [],
   "source": []
  },
  {
   "cell_type": "code",
   "execution_count": null,
   "id": "a20f8e5c-72aa-4682-823b-9c74d7e8f547",
   "metadata": {},
   "outputs": [],
   "source": [
    "# fill i"
   ]
  },
  {
   "cell_type": "markdown",
   "id": "2d6eb304-d0cb-4c38-be31-0ddbd16fb567",
   "metadata": {},
   "source": [
    "## Fill in the blanks from IdLookupTable.csv"
   ]
  },
  {
   "cell_type": "code",
   "execution_count": null,
   "id": "fff5968e-8aab-45f4-8afb-ff3dde09f2e0",
   "metadata": {},
   "outputs": [],
   "source": []
  },
  {
   "cell_type": "code",
   "execution_count": null,
   "id": "fef89502-71b5-4cbd-baf8-07fb0248614c",
   "metadata": {},
   "outputs": [],
   "source": []
  },
  {
   "cell_type": "code",
   "execution_count": null,
   "id": "556bcfde-869a-46de-993b-73c4f1787c0a",
   "metadata": {},
   "outputs": [],
   "source": []
  },
  {
   "cell_type": "markdown",
   "id": "85016d01-025d-4a4a-867b-4867ac30876d",
   "metadata": {},
   "source": [
    "## Submit IdLookupTable\n",
    "\n"
   ]
  },
  {
   "cell_type": "code",
   "execution_count": null,
   "id": "45a08922-8cf9-4c04-854b-f0d4eca86628",
   "metadata": {},
   "outputs": [],
   "source": []
  }
 ],
 "metadata": {
  "kernelspec": {
   "display_name": "Python 3 (ipykernel)",
   "language": "python",
   "name": "python3"
  },
  "language_info": {
   "codemirror_mode": {
    "name": "ipython",
    "version": 3
   },
   "file_extension": ".py",
   "mimetype": "text/x-python",
   "name": "python",
   "nbconvert_exporter": "python",
   "pygments_lexer": "ipython3",
   "version": "3.9.13"
  }
 },
 "nbformat": 4,
 "nbformat_minor": 5
}
